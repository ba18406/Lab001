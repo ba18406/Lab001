{
  "nbformat": 4,
  "nbformat_minor": 0,
  "metadata": {
    "colab": {
      "name": "Untitled3.ipynb",
      "provenance": [],
      "authorship_tag": "ABX9TyPFq8A5qqc8iiWotO/B+RF2",
      "include_colab_link": true
    },
    "kernelspec": {
      "name": "python3",
      "display_name": "Python 3"
    }
  },
  "cells": [
    {
      "cell_type": "markdown",
      "metadata": {
        "id": "view-in-github",
        "colab_type": "text"
      },
      "source": [
        "<a href=\"https://colab.research.google.com/github/ba18406/Lab001/blob/master/answers2.ipynb\" target=\"_parent\"><img src=\"https://colab.research.google.com/assets/colab-badge.svg\" alt=\"Open In Colab\"/></a>"
      ]
    },
    {
      "cell_type": "code",
      "metadata": {
        "id": "ByhsZP1o2Hbl",
        "colab_type": "code",
        "colab": {}
      },
      "source": [
        "import matplotlib\n",
        "import pandas as pd\n",
        "import seaborn as sns\n",
        "import numpy as np"
      ],
      "execution_count": 0,
      "outputs": []
    },
    {
      "cell_type": "code",
      "metadata": {
        "id": "2lts4o8D5uEU",
        "colab_type": "code",
        "colab": {
          "base_uri": "https://localhost:8080/",
          "height": 306
        },
        "outputId": "6b23cb82-6517-4021-9f13-0a546a8a94d8"
      },
      "source": [
        "# Load the data\n",
        "df = pd.read_csv('https://raw.githubusercontent.com/albanda/CE888/master/lab2%20-%20bootstrap/customers.csv')\n",
        "data = df.values.T[1]\n",
        "print (df)\n",
        "print (data)\n",
        "print(data.shape)"
      ],
      "execution_count": 41,
      "outputs": [
        {
          "output_type": "stream",
          "text": [
            "    Day   Millons of pounds in sales\n",
            "0     1                          2.0\n",
            "1     2                          8.0\n",
            "2     3                         20.0\n",
            "3     4                         13.0\n",
            "4     5                          5.0\n",
            "5     6                          9.0\n",
            "6     7                         10.0\n",
            "7     8                          8.0\n",
            "8     9                         22.0\n",
            "9    10                         10.0\n",
            "10   11                          2.0\n",
            "11   12                          4.0\n",
            "12   13                          7.0\n",
            "13   14                          9.0\n",
            "[ 2.  8. 20. 13.  5.  9. 10.  8. 22. 10.  2.  4.  7.  9.]\n",
            "(14,)\n"
          ],
          "name": "stdout"
        }
      ]
    },
    {
      "cell_type": "code",
      "metadata": {
        "id": "NZWqtmgkJJCU",
        "colab_type": "code",
        "colab": {}
      },
      "source": [
        "def boostrap_mean(sample, sample_size, n_iterations):\n",
        "  new_array = np.random.choice(sample, (n_iterations, sample_size), replace = True)\n",
        "  data_mean = np.mean(new_array)\n",
        "  mean_array = np.array(new_array.mean(axis=1))\n",
        "  lower = np.percentile(mean_array, 2.5)\n",
        "  upper = np.percentile(mean_array, 97.5)\n",
        "  return data_mean, lower, upper"
      ],
      "execution_count": 0,
      "outputs": []
    },
    {
      "cell_type": "code",
      "metadata": {
        "id": "UEGDh1B5K1WF",
        "colab_type": "code",
        "colab": {
          "base_uri": "https://localhost:8080/",
          "height": 386
        },
        "outputId": "f9133383-9453-42f5-93d8-49028a71dfd1"
      },
      "source": [
        "boots = []\n",
        "for i in range(100, 100000, 1000):\n",
        "    boot = boostrap_mean(data, data.shape[0], i)\n",
        "    boots.append([i, boot[0], \"mean\"])\n",
        "    boots.append([i, boot[1], \"lower\"])\n",
        "    boots.append([i, boot[2], \"upper\"])\n",
        "\n",
        "df_boot = pd.DataFrame(boots, columns=['Boostrap Iterations', 'Mean', \"Value\"])\n",
        "sns_plot = sns.lmplot(df_boot.columns[0], df_boot.columns[1], data=df_boot, fit_reg=False, hue=\"Value\")\n",
        "\n",
        "sns_plot.axes[0, 0].set_ylim(0,)\n",
        "sns_plot.axes[0, 0].set_xlim(0, 100000)\n",
        "\n",
        "#sns_plot.savefig(\"bootstrap_confidence.png\", bbox_inches='tight')\n",
        "#sns_plot.savefig(\"bootstrap_confidence.pdf\", bbox_inches='tight')\n"
      ],
      "execution_count": 51,
      "outputs": [
        {
          "output_type": "execute_result",
          "data": {
            "text/plain": [
              "(0, 100000)"
            ]
          },
          "metadata": {
            "tags": []
          },
          "execution_count": 51
        },
        {
          "output_type": "display_data",
          "data": {
            "image/png": "[encoded data removed]",
            "text/plain": [
              "<Figure size 425.125x360 with 1 Axes>"
            ]
          },
          "metadata": {
            "tags": []
          }
        }
      ]
    }
  ]
}