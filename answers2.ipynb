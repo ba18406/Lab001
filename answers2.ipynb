{
  "nbformat": 4,
  "nbformat_minor": 0,
  "metadata": {
    "colab": {
      "name": "Untitled3.ipynb",
      "provenance": [],
      "authorship_tag": "ABX9TyP/67uE8m1jKkfTniNWr984",
      "include_colab_link": true
    },
    "kernelspec": {
      "name": "python3",
      "display_name": "Python 3"
    }
  },
  "cells": [
    {
      "cell_type": "markdown",
      "metadata": {
        "id": "view-in-github",
        "colab_type": "text"
      },
      "source": [
        "<a href=\"https://colab.research.google.com/github/ba18406/Lab001/blob/master/answers2.ipynb\" target=\"_parent\"><img src=\"https://colab.research.google.com/assets/colab-badge.svg\" alt=\"Open In Colab\"/></a>"
      ]
    },
    {
      "cell_type": "code",
      "metadata": {
        "id": "ByhsZP1o2Hbl",
        "colab_type": "code",
        "colab": {}
      },
      "source": [
        "import matplotlib\n",
        "import pandas as pd\n",
        "import seaborn as sns\n",
        "import numpy as np"
      ],
      "execution_count": 0,
      "outputs": []
    },
    {
      "cell_type": "code",
      "metadata": {
        "id": "2lts4o8D5uEU",
        "colab_type": "code",
        "colab": {
          "base_uri": "https://localhost:8080/",
          "height": 306
        },
        "outputId": "6b23cb82-6517-4021-9f13-0a546a8a94d8"
      },
      "source": [
        "# Load the data\n",
        "df = pd.read_csv('https://raw.githubusercontent.com/albanda/CE888/master/lab2%20-%20bootstrap/customers.csv')\n",
        "data = df.values.T[1]\n",
        "print (df)\n",
        "print (data)\n",
        "print(data.shape)"
      ],
      "execution_count": 41,
      "outputs": [
        {
          "output_type": "stream",
          "text": [
            "    Day   Millons of pounds in sales\n",
            "0     1                          2.0\n",
            "1     2                          8.0\n",
            "2     3                         20.0\n",
            "3     4                         13.0\n",
            "4     5                          5.0\n",
            "5     6                          9.0\n",
            "6     7                         10.0\n",
            "7     8                          8.0\n",
            "8     9                         22.0\n",
            "9    10                         10.0\n",
            "10   11                          2.0\n",
            "11   12                          4.0\n",
            "12   13                          7.0\n",
            "13   14                          9.0\n",
            "[ 2.  8. 20. 13.  5.  9. 10.  8. 22. 10.  2.  4.  7.  9.]\n",
            "(14,)\n"
          ],
          "name": "stdout"
        }
      ]
    },
    {
      "cell_type": "code",
      "metadata": {
        "id": "NZWqtmgkJJCU",
        "colab_type": "code",
        "colab": {}
      },
      "source": [
        "def boostrap_mean(sample, sample_size, n_iterations):\n",
        "  new_array = np.random.choice(sample, (n_iterations, sample_size), replace = True)\n",
        "  data_mean = np.mean(new_array)\n",
        "  mean_array = np.array(new_array.mean(axis=1))\n",
        "  lower = np.percentile(mean_array, 2.5)\n",
        "  upper = np.percentile(mean_array, 97.5)\n",
        "  return data_mean, lower, upper"
      ],
      "execution_count": 0,
      "outputs": []
    },
    {
      "cell_type": "code",
      "metadata": {
        "id": "UEGDh1B5K1WF",
        "colab_type": "code",
        "colab": {
          "base_uri": "https://localhost:8080/",
          "height": 386
        },
        "outputId": "f9133383-9453-42f5-93d8-49028a71dfd1"
      },
      "source": [
        "boots = []\n",
        "for i in range(100, 100000, 1000):\n",
        "    boot = boostrap_mean(data, data.shape[0], i)\n",
        "    boots.append([i, boot[0], \"mean\"])\n",
        "    boots.append([i, boot[1], \"lower\"])\n",
        "    boots.append([i, boot[2], \"upper\"])\n",
        "\n",
        "df_boot = pd.DataFrame(boots, columns=['Boostrap Iterations', 'Mean', \"Value\"])\n",
        "sns_plot = sns.lmplot(df_boot.columns[0], df_boot.columns[1], data=df_boot, fit_reg=False, hue=\"Value\")\n",
        "\n",
        "sns_plot.axes[0, 0].set_ylim(0,)\n",
        "sns_plot.axes[0, 0].set_xlim(0, 100000)\n",
        "\n",
        "#sns_plot.savefig(\"bootstrap_confidence.png\", bbox_inches='tight')\n",
        "#sns_plot.savefig(\"bootstrap_confidence.pdf\", bbox_inches='tight')\n"
      ],
      "execution_count": 51,
      "outputs": [
        {
          "output_type": "execute_result",
          "data": {
            "text/plain": [
              "(0, 100000)"
            ]
          },
          "metadata": {
            "tags": []
          },
          "execution_count": 51
        },
        {
          "output_type": "display_data",
          "data": {
            "image/png": "[encoded data removed]",
            "text/plain": [
              "<Figure size 425.125x360 with 1 Axes>"
            ]
          },
          "metadata": {
            "tags": []
          }
        }
      ]
    },
    {
      "cell_type": "code",
      "metadata": {
        "id": "nNYTYp4FR0As",
        "colab_type": "code",
        "colab": {
          "base_uri": "https://localhost:8080/",
          "height": 1000
        },
        "outputId": "8366b607-cdcc-4397-cb03-91a2714e9b66"
      },
      "source": [
        "df = pd.read_csv('https://raw.githubusercontent.com/albanda/CE888/master/lab2%20-%20bootstrap/vehicles.csv')\n",
        "data = df.values\n",
        "print (df)\n",
        "print (data)\n",
        "print(data.shape)"
      ],
      "execution_count": 58,
      "outputs": [
        {
          "output_type": "stream",
          "text": [
            "     Current fleet  New Fleet\n",
            "0               18       24.0\n",
            "1               15       27.0\n",
            "2               18       27.0\n",
            "3               16       25.0\n",
            "4               17       31.0\n",
            "..             ...        ...\n",
            "244             27        NaN\n",
            "245             27        NaN\n",
            "246             32        NaN\n",
            "247             28        NaN\n",
            "248             31        NaN\n",
            "\n",
            "[249 rows x 2 columns]\n",
            "[[18. 24.]\n",
            " [15. 27.]\n",
            " [18. 27.]\n",
            " [16. 25.]\n",
            " [17. 31.]\n",
            " [15. 35.]\n",
            " [14. 24.]\n",
            " [14. 19.]\n",
            " [14. 28.]\n",
            " [15. 23.]\n",
            " [15. 27.]\n",
            " [14. 20.]\n",
            " [15. 22.]\n",
            " [14. 18.]\n",
            " [22. 20.]\n",
            " [18. 31.]\n",
            " [21. 32.]\n",
            " [21. 31.]\n",
            " [10. 32.]\n",
            " [10. 24.]\n",
            " [11. 26.]\n",
            " [ 9. 29.]\n",
            " [28. 24.]\n",
            " [25. 24.]\n",
            " [19. 33.]\n",
            " [16. 33.]\n",
            " [17. 32.]\n",
            " [19. 28.]\n",
            " [18. 19.]\n",
            " [14. 32.]\n",
            " [14. 34.]\n",
            " [14. 26.]\n",
            " [14. 30.]\n",
            " [12. 22.]\n",
            " [13. 22.]\n",
            " [13. 33.]\n",
            " [18. 39.]\n",
            " [22. 36.]\n",
            " [19. 28.]\n",
            " [18. 27.]\n",
            " [23. 21.]\n",
            " [26. 24.]\n",
            " [25. 30.]\n",
            " [20. 34.]\n",
            " [21. 32.]\n",
            " [13. 38.]\n",
            " [14. 37.]\n",
            " [15. 30.]\n",
            " [14. 31.]\n",
            " [17. 37.]\n",
            " [11. 32.]\n",
            " [13. 47.]\n",
            " [12. 41.]\n",
            " [13. 45.]\n",
            " [15. 34.]\n",
            " [13. 33.]\n",
            " [13. 24.]\n",
            " [14. 32.]\n",
            " [22. 39.]\n",
            " [28. 35.]\n",
            " [13. 32.]\n",
            " [14. 37.]\n",
            " [13. 38.]\n",
            " [14. 34.]\n",
            " [15. 34.]\n",
            " [12. 32.]\n",
            " [13. 33.]\n",
            " [13. 32.]\n",
            " [14. 25.]\n",
            " [13. 24.]\n",
            " [12. 37.]\n",
            " [13. 31.]\n",
            " [18. 36.]\n",
            " [16. 36.]\n",
            " [18. 34.]\n",
            " [18. 38.]\n",
            " [23. 32.]\n",
            " [11. 38.]\n",
            " [12. 32.]\n",
            " [13. nan]\n",
            " [12. nan]\n",
            " [18. nan]\n",
            " [21. nan]\n",
            " [19. nan]\n",
            " [21. nan]\n",
            " [15. nan]\n",
            " [16. nan]\n",
            " [15. nan]\n",
            " [11. nan]\n",
            " [20. nan]\n",
            " [21. nan]\n",
            " [19. nan]\n",
            " [15. nan]\n",
            " [26. nan]\n",
            " [25. nan]\n",
            " [16. nan]\n",
            " [16. nan]\n",
            " [18. nan]\n",
            " [16. nan]\n",
            " [13. nan]\n",
            " [14. nan]\n",
            " [14. nan]\n",
            " [14. nan]\n",
            " [28. nan]\n",
            " [19. nan]\n",
            " [18. nan]\n",
            " [15. nan]\n",
            " [15. nan]\n",
            " [16. nan]\n",
            " [15. nan]\n",
            " [16. nan]\n",
            " [14. nan]\n",
            " [17. nan]\n",
            " [16. nan]\n",
            " [15. nan]\n",
            " [18. nan]\n",
            " [21. nan]\n",
            " [20. nan]\n",
            " [13. nan]\n",
            " [23. nan]\n",
            " [20. nan]\n",
            " [23. nan]\n",
            " [18. nan]\n",
            " [19. nan]\n",
            " [25. nan]\n",
            " [26. nan]\n",
            " [18. nan]\n",
            " [16. nan]\n",
            " [16. nan]\n",
            " [15. nan]\n",
            " [22. nan]\n",
            " [22. nan]\n",
            " [24. nan]\n",
            " [23. nan]\n",
            " [29. nan]\n",
            " [25. nan]\n",
            " [20. nan]\n",
            " [18. nan]\n",
            " [19. nan]\n",
            " [18. nan]\n",
            " [27. nan]\n",
            " [13. nan]\n",
            " [17. nan]\n",
            " [13. nan]\n",
            " [13. nan]\n",
            " [13. nan]\n",
            " [30. nan]\n",
            " [26. nan]\n",
            " [18. nan]\n",
            " [17. nan]\n",
            " [16. nan]\n",
            " [15. nan]\n",
            " [18. nan]\n",
            " [21. nan]\n",
            " [19. nan]\n",
            " [19. nan]\n",
            " [16. nan]\n",
            " [16. nan]\n",
            " [16. nan]\n",
            " [16. nan]\n",
            " [25. nan]\n",
            " [26. nan]\n",
            " [31. nan]\n",
            " [34. nan]\n",
            " [36. nan]\n",
            " [20. nan]\n",
            " [19. nan]\n",
            " [20. nan]\n",
            " [19. nan]\n",
            " [21. nan]\n",
            " [20. nan]\n",
            " [25. nan]\n",
            " [21. nan]\n",
            " [19. nan]\n",
            " [21. nan]\n",
            " [21. nan]\n",
            " [19. nan]\n",
            " [18. nan]\n",
            " [19. nan]\n",
            " [18. nan]\n",
            " [18. nan]\n",
            " [18. nan]\n",
            " [30. nan]\n",
            " [31. nan]\n",
            " [23. nan]\n",
            " [24. nan]\n",
            " [22. nan]\n",
            " [20. nan]\n",
            " [22. nan]\n",
            " [20. nan]\n",
            " [21. nan]\n",
            " [17. nan]\n",
            " [18. nan]\n",
            " [17. nan]\n",
            " [18. nan]\n",
            " [17. nan]\n",
            " [16. nan]\n",
            " [19. nan]\n",
            " [19. nan]\n",
            " [36. nan]\n",
            " [27. nan]\n",
            " [23. nan]\n",
            " [24. nan]\n",
            " [34. nan]\n",
            " [35. nan]\n",
            " [28. nan]\n",
            " [29. nan]\n",
            " [27. nan]\n",
            " [34. nan]\n",
            " [32. nan]\n",
            " [28. nan]\n",
            " [26. nan]\n",
            " [24. nan]\n",
            " [19. nan]\n",
            " [28. nan]\n",
            " [24. nan]\n",
            " [27. nan]\n",
            " [27. nan]\n",
            " [26. nan]\n",
            " [24. nan]\n",
            " [30. nan]\n",
            " [39. nan]\n",
            " [35. nan]\n",
            " [34. nan]\n",
            " [30. nan]\n",
            " [22. nan]\n",
            " [27. nan]\n",
            " [20. nan]\n",
            " [18. nan]\n",
            " [28. nan]\n",
            " [27. nan]\n",
            " [34. nan]\n",
            " [31. nan]\n",
            " [29. nan]\n",
            " [27. nan]\n",
            " [24. nan]\n",
            " [23. nan]\n",
            " [38. nan]\n",
            " [36. nan]\n",
            " [25. nan]\n",
            " [38. nan]\n",
            " [26. nan]\n",
            " [22. nan]\n",
            " [36. nan]\n",
            " [27. nan]\n",
            " [27. nan]\n",
            " [32. nan]\n",
            " [28. nan]\n",
            " [31. nan]]\n",
            "(249, 2)\n"
          ],
          "name": "stdout"
        }
      ]
    },
    {
      "cell_type": "code",
      "metadata": {
        "id": "cLgOMwaNSouB",
        "colab_type": "code",
        "colab": {}
      },
      "source": [
        "def boostrap_mean(sample, sample_size, n_iterations):\n",
        "  new_array = np.random.choice(sample, (n_iterations, sample_size), replace = True)\n",
        "  data_mean = np.mean(new_array)\n",
        "  mean_array = np.array(new_array.mean(axis=1))\n",
        "  lower = np.percentile(mean_array, 2.5)\n",
        "  upper = np.percentile(mean_array, 97.5)\n",
        "  return data_mean, lower, upper"
      ],
      "execution_count": 0,
      "outputs": []
    },
    {
      "cell_type": "code",
      "metadata": {
        "id": "_EjFJxF9S8yn",
        "colab_type": "code",
        "colab": {
          "base_uri": "https://localhost:8080/",
          "height": 386
        },
        "outputId": "49a1f580-2b91-44e6-d34c-62d0272f6ae7"
      },
      "source": [
        "currentFleet = data.T[0]\n",
        "boots = []\n",
        "for i in range(100, 100000, 1000):\n",
        "    boot = boostrap_mean(currentFleet, currentFleet.shape[0], i)\n",
        "    boots.append([i, boot[0], \"mean\"])\n",
        "    boots.append([i, boot[1], \"lower\"])\n",
        "    boots.append([i, boot[2], \"upper\"])\n",
        "\n",
        "df_boot = pd.DataFrame(boots, columns=['Boostrap Iterations', 'Mean', \"Value\"])\n",
        "sns_plot = sns.lmplot(df_boot.columns[0], df_boot.columns[1], data=df_boot, fit_reg=False, hue=\"Value\")\n",
        "\n",
        "sns_plot.axes[0, 0].set_ylim(0,)\n",
        "sns_plot.axes[0, 0].set_xlim(0, 100000)\n",
        "\n",
        "#sns_plot.savefig(\"bootstrap_confidence.png\", bbox_inches='tight')\n",
        "#sns_plot.savefig(\"bootstrap_confidence.pdf\", bbox_inches='tight')"
      ],
      "execution_count": 59,
      "outputs": [
        {
          "output_type": "execute_result",
          "data": {
            "text/plain": [
              "(0, 100000)"
            ]
          },
          "metadata": {
            "tags": []
          },
          "execution_count": 59
        },
        {
          "output_type": "display_data",
          "data": {
            "image/png": "[encoded data removed]",
            "text/plain": [
              "<Figure size 425.125x360 with 1 Axes>"
            ]
          },
          "metadata": {
            "tags": []
          }
        }
      ]
    },
    {
      "cell_type": "code",
      "metadata": {
        "id": "7bJim5XaUG6y",
        "colab_type": "code",
        "colab": {
          "base_uri": "https://localhost:8080/",
          "height": 382
        },
        "outputId": "852ce590-afe2-446b-e7b1-228b16ea7029"
      },
      "source": [
        "x = data.T[1][~np.isnan(data.T[1])]\n",
        "FirstFleet = x\n",
        "boots = []\n",
        "for i in range(100, 100000, 1000):\n",
        "    boot = boostrap_mean(FirstFleet, FirstFleet.shape[0], i)\n",
        "    boots.append([i, boot[0], \"mean\"])\n",
        "    boots.append([i, boot[1], \"lower\"])\n",
        "    boots.append([i, boot[2], \"upper\"])\n",
        "\n",
        "df_boot = pd.DataFrame(boots, columns=['Boostrap Iterations', 'Mean', \"Value\"])\n",
        "sns_plot = sns.lmplot(df_boot.columns[0], df_boot.columns[1], data=df_boot, fit_reg=False, hue=\"Value\")\n",
        "\n",
        "sns_plot.axes[0, 0].set_ylim(0,)\n",
        "sns_plot.axes[0, 0].set_xlim(0, 100000)\n",
        "\n",
        "#sns_plot.savefig(\"bootstrap_confidence.png\", bbox_inches='tight')\n",
        "#sns_plot.savefig(\"bootstrap_confidence.pdf\", bbox_inches='tight')"
      ],
      "execution_count": 60,
      "outputs": [
        {
          "output_type": "execute_result",
          "data": {
            "text/plain": [
              "(0, 100000)"
            ]
          },
          "metadata": {
            "tags": []
          },
          "execution_count": 60
        },
        {
          "output_type": "display_data",
          "data": {
            "image/png": "[encoded data removed]",
            "text/plain": [
              "<Figure size 425.125x360 with 1 Axes>"
            ]
          },
          "metadata": {
            "tags": []
          }
        }
      ]
    }
  ]
}