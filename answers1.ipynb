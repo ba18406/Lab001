{
  "nbformat": 4,
  "nbformat_minor": 0,
  "metadata": {
    "colab": {
      "name": "Untitled2.ipynb",
      "provenance": [],
      "authorship_tag": "ABX9TyMWozSnyU0ZKlpP3UO2RzdN",
      "include_colab_link": true
    },
    "kernelspec": {
      "name": "python3",
      "display_name": "Python 3"
    }
  },
  "cells": [
    {
      "cell_type": "markdown",
      "metadata": {
        "id": "view-in-github",
        "colab_type": "text"
      },
      "source": [
        "<a href=\"https://colab.research.google.com/github/ba18406/Lab001/blob/master/answers1.ipynb\" target=\"_parent\"><img src=\"https://colab.research.google.com/assets/colab-badge.svg\" alt=\"Open In Colab\"/></a>"
      ]
    },
    {
      "cell_type": "code",
      "metadata": {
        "id": "pH8Df-2q9pzK",
        "colab_type": "code",
        "colab": {
          "base_uri": "https://localhost:8080/",
          "height": 85
        },
        "outputId": "3832931a-d607-4f51-fe83-65ae5f10cff6"
      },
      "source": [
        "import numpy as np\n",
        "arry = np.array([[1,2],\n",
        "                [3,4],\n",
        "                [4,5],\n",
        "                [6,7]])\n",
        "print (arry)"
      ],
      "execution_count": 2,
      "outputs": [
        {
          "output_type": "stream",
          "text": [
            "[[1 2]\n",
            " [3 4]\n",
            " [4 5]\n",
            " [6 7]]\n"
          ],
          "name": "stdout"
        }
      ]
    },
    {
      "cell_type": "code",
      "metadata": {
        "id": "7WNbqdxb_wqV",
        "colab_type": "code",
        "colab": {
          "base_uri": "https://localhost:8080/",
          "height": 34
        },
        "outputId": "ab003b9a-1aeb-4fd5-93f3-ffeffe41e27d"
      },
      "source": [
        "arry1 = np.array([1,5,9,7,6,11,8,2,11,10])\n",
        "ascending = np.sort(arry1)\n",
        "descending = ascending [::-1]\n",
        "print (ascending , descending)"
      ],
      "execution_count": 4,
      "outputs": [
        {
          "output_type": "stream",
          "text": [
            "[ 1  2  5  6  7  8  9 10 11 11] [11 11 10  9  8  7  6  5  2  1]\n"
          ],
          "name": "stdout"
        }
      ]
    },
    {
      "cell_type": "code",
      "metadata": {
        "id": "wNF4DxknDFh3",
        "colab_type": "code",
        "colab": {
          "base_uri": "https://localhost:8080/",
          "height": 68
        },
        "outputId": "f9c90f39-91bd-406a-9a29-7e5e3557fa33"
      },
      "source": [
        "arry2 = np.array([1,2,3,4,5,6,7,8,9])\n",
        "DD = np.reshape(arry2, (-1,3))\n",
        "DD\n",
        "print (DD)"
      ],
      "execution_count": 9,
      "outputs": [
        {
          "output_type": "stream",
          "text": [
            "[[1 2 3]\n",
            " [4 5 6]\n",
            " [7 8 9]]\n"
          ],
          "name": "stdout"
        }
      ]
    },
    {
      "cell_type": "code",
      "metadata": {
        "id": "s1It77bHGDt3",
        "colab_type": "code",
        "colab": {
          "base_uri": "https://localhost:8080/",
          "height": 51
        },
        "outputId": "5480ba85-32ea-44b8-f3b7-97e507ba9176"
      },
      "source": [
        "arry3 = np.array([2,4])\n",
        "arry4 = np.array([5,6])\n",
        "SS = np.column_stack ((arry3,arry4))\n",
        "print (SS)"
      ],
      "execution_count": 17,
      "outputs": [
        {
          "output_type": "stream",
          "text": [
            "[[2 5]\n",
            " [4 6]]\n"
          ],
          "name": "stdout"
        }
      ]
    },
    {
      "cell_type": "code",
      "metadata": {
        "id": "t-9Jlk1LINdh",
        "colab_type": "code",
        "colab": {
          "base_uri": "https://localhost:8080/",
          "height": 34
        },
        "outputId": "bf5c65b2-0d51-46e2-9635-20cec1956b1f"
      },
      "source": [
        "arry5 = np.array([4,2])\n",
        "arry6 = np.array([3,4])\n",
        "CC = np.intersect1d (arry5,arry6)\n",
        "print (CC)"
      ],
      "execution_count": 24,
      "outputs": [
        {
          "output_type": "stream",
          "text": [
            "[4]\n"
          ],
          "name": "stdout"
        }
      ]
    },
    {
      "cell_type": "code",
      "metadata": {
        "id": "Wvt2mzJjKGqz",
        "colab_type": "code",
        "colab": {
          "base_uri": "https://localhost:8080/",
          "height": 34
        },
        "outputId": "d8febe36-e857-4307-e1c0-b281d22ad508"
      },
      "source": [
        "arry7 = np.array([[1,8,5,7,9],\n",
        "                  [5,7,9,4,6],\n",
        "                  [10,7,9,6,3],\n",
        "                  [4,9,7,3,5],\n",
        "                  [3,9,7,5,4]])\n",
        "Min = np.amin (arry7)\n",
        "Max = np.amax (arry7)\n",
        "Min1 = np.amin (arry7, axis=1)\n",
        "Max1 = np.amax (arry7, axis=1)\n",
        "RR = print (Min1, Max1)\n"
      ],
      "execution_count": 33,
      "outputs": [
        {
          "output_type": "stream",
          "text": [
            "[1 4 3 3 3] [ 9  9 10  9  9]\n"
          ],
          "name": "stdout"
        }
      ]
    },
    {
      "cell_type": "code",
      "metadata": {
        "id": "q8lNjlfhNZSL",
        "colab_type": "code",
        "colab": {
          "base_uri": "https://localhost:8080/",
          "height": 357
        },
        "outputId": "e1f9ce7e-53f0-4977-ec92-5844ea844d1f"
      },
      "source": [
        "arry8 = np.random.rand(1,100)\n",
        "print (arry8)\n",
        "print (np.mean(arry8))\n",
        "print(np.median(arry8))\n",
        "print(np.std(arry8))"
      ],
      "execution_count": 37,
      "outputs": [
        {
          "output_type": "stream",
          "text": [
            "[[0.49124962 0.19180621 0.66787892 0.30868028 0.64633956 0.7010092\n",
            "  0.62970194 0.5709686  0.53793384 0.97885919 0.03070072 0.8132286\n",
            "  0.98435083 0.05526042 0.11567829 0.77384728 0.00992742 0.40427102\n",
            "  0.25546193 0.09962073 0.07885998 0.75373842 0.08611347 0.25152434\n",
            "  0.99808683 0.31515607 0.08757534 0.00819119 0.75052118 0.2620316\n",
            "  0.06515704 0.9869219  0.46845249 0.20098385 0.6153682  0.41574927\n",
            "  0.30484552 0.20892876 0.81642655 0.46064921 0.46371106 0.32596139\n",
            "  0.26026045 0.74286804 0.54697482 0.31397027 0.66357852 0.13428577\n",
            "  0.85248865 0.72915742 0.89425798 0.03734317 0.62596944 0.22106468\n",
            "  0.68767671 0.87252668 0.1070306  0.96260594 0.57995421 0.72433573\n",
            "  0.46962978 0.91743519 0.74150617 0.10601097 0.04998967 0.46268019\n",
            "  0.50357694 0.88295745 0.09060113 0.31589083 0.80679938 0.11689186\n",
            "  0.6588949  0.94749269 0.96141193 0.34390271 0.02925051 0.0516639\n",
            "  0.42909545 0.86450284 0.04293374 0.7578842  0.80389159 0.49271997\n",
            "  0.89278485 0.94105517 0.98703363 0.24726372 0.80832994 0.86698789\n",
            "  0.12549883 0.98646084 0.36257587 0.00997529 0.69666034 0.27435728\n",
            "  0.79916342 0.16226372 0.08793775 0.48933616]]\n",
            "0.48733376047067883\n",
            "0.4794829710785766\n",
            "0.31759760558896205\n"
          ],
          "name": "stdout"
        }
      ]
    },
    {
      "cell_type": "code",
      "metadata": {
        "id": "kjouzhbFO9N_",
        "colab_type": "code",
        "colab": {
          "base_uri": "https://localhost:8080/",
          "height": 102
        },
        "outputId": "25a36c88-0703-4549-e89d-4486c42a0eb2"
      },
      "source": [
        "arry9 = np.array([[1,5,7,9,6],\n",
        "                   [6,7,4,9,5],\n",
        "                   [10,8,77,20,6],\n",
        "                   [14,8,9,7,6],\n",
        "                   [5,8,9,7,6]])\n",
        "arry9 = arry9 - np.mean(arry9)\n",
        "arry9 = arry9 - np.abs(arry9).max()\n",
        "print (arry9) \n"
      ],
      "execution_count": 38,
      "outputs": [
        {
          "output_type": "stream",
          "text": [
            "[[-76. -72. -70. -68. -71.]\n",
            " [-71. -70. -73. -68. -72.]\n",
            " [-67. -69.   0. -57. -71.]\n",
            " [-63. -69. -68. -70. -71.]\n",
            " [-72. -69. -68. -70. -71.]]\n"
          ],
          "name": "stdout"
        }
      ]
    },
    {
      "cell_type": "code",
      "metadata": {
        "id": "-75izJ21Qi_m",
        "colab_type": "code",
        "colab": {
          "base_uri": "https://localhost:8080/",
          "height": 340
        },
        "outputId": "d879c015-9781-4eba-adc5-87ed9514e0f5"
      },
      "source": [
        "arry10 = np.random.random((4,4,3))\n",
        "arry11 = np.random.random((4,4))\n",
        "\n",
        "arry10 * arry11 [:,:,None]"
      ],
      "execution_count": 39,
      "outputs": [
        {
          "output_type": "execute_result",
          "data": {
            "text/plain": [
              "array([[[0.41504858, 0.15158174, 0.07081468],\n",
              "        [0.06864691, 0.09655023, 0.07481931],\n",
              "        [0.36576148, 0.07398324, 0.34983693],\n",
              "        [0.09367646, 0.34209646, 0.42201132]],\n",
              "\n",
              "       [[0.14635156, 0.14505092, 0.057456  ],\n",
              "        [0.02531648, 0.61138247, 0.5985527 ],\n",
              "        [0.29130579, 0.11786678, 0.00783137],\n",
              "        [0.05798319, 0.25542672, 0.71118786]],\n",
              "\n",
              "       [[0.5036947 , 0.81389432, 0.04579261],\n",
              "        [0.27047562, 0.24060491, 0.03590755],\n",
              "        [0.2975142 , 0.95583065, 0.0531541 ],\n",
              "        [0.2091885 , 0.14519432, 0.20242615]],\n",
              "\n",
              "       [[0.42398328, 0.24937095, 0.40284337],\n",
              "        [0.70150788, 0.43272699, 0.22982321],\n",
              "        [0.30745206, 0.30612962, 0.46328488],\n",
              "        [0.30928319, 0.3007133 , 0.3829049 ]]])"
            ]
          },
          "metadata": {
            "tags": []
          },
          "execution_count": 39
        }
      ]
    }
  ]
}