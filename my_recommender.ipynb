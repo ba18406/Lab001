{
  "nbformat": 4,
  "nbformat_minor": 0,
  "metadata": {
    "colab": {
      "name": "my_recommender.ipynb",
      "provenance": [],
      "authorship_tag": "ABX9TyMAQ9l0fa1n4ZAOvG9Nkwou",
      "include_colab_link": true
    },
    "kernelspec": {
      "name": "python3",
      "display_name": "Python 3"
    }
  },
  "cells": [
    {
      "cell_type": "markdown",
      "metadata": {
        "id": "view-in-github",
        "colab_type": "text"
      },
      "source": [
        "<a href=\"https://colab.research.google.com/github/ba18406/Lab001/blob/master/my_recommender.ipynb\" target=\"_parent\"><img src=\"https://colab.research.google.com/assets/colab-badge.svg\" alt=\"Open In Colab\"/></a>"
      ]
    },
    {
      "cell_type": "code",
      "metadata": {
        "id": "SavoIv3O8Cq8",
        "colab_type": "code",
        "colab": {}
      },
      "source": [
        "import pandas as pd\n",
        "df = pd.read_csv(\"https://raw.githubusercontent.com/albanda/CE888/master/lab5-recommender/jester-data-1.csv\")"
      ],
      "execution_count": 0,
      "outputs": []
    },
    {
      "cell_type": "code",
      "metadata": {
        "id": "4W-_ToBC_agN",
        "colab_type": "code",
        "colab": {}
      },
      "source": [
        "import numpy as np\n",
        "from IPython.display import Image\n",
        "np.set_printoptions(precision = 3)"
      ],
      "execution_count": 0,
      "outputs": []
    },
    {
      "cell_type": "code",
      "metadata": {
        "id": "s-_8HNGYAaa_",
        "colab_type": "code",
        "outputId": "6c946700-d8cf-432c-f696-a8c4a3a1f182",
        "colab": {
          "base_uri": "https://localhost:8080/",
          "height": 255
        }
      },
      "source": [
        "print (df)"
      ],
      "execution_count": 0,
      "outputs": [
        {
          "output_type": "stream",
          "text": [
            "        74  -7.82   8.79  -9.66  -8.16  ...  99.22  -5.63  99.23  99.24  99.25\n",
            "0      100   4.08  -0.29   6.36   4.37  ...  -2.14   3.06   0.34  -4.32   1.07\n",
            "1       49  99.00  99.00  99.00  99.00  ...  99.00  99.00  99.00  99.00  99.00\n",
            "2       48  99.00   8.35  99.00  99.00  ...  99.00  99.00  99.00  99.00  99.00\n",
            "3       91   8.50   4.61  -4.17  -5.39  ...   1.55   3.11   6.55   1.80   1.60\n",
            "4      100  -6.17  -3.54   0.44  -8.50  ...  -3.35   0.05  -9.08  -5.05  -3.45\n",
            "...    ...    ...    ...    ...    ...  ...    ...    ...    ...    ...    ...\n",
            "24977  100   0.44   7.43   9.08   2.33  ...   9.03   6.55   8.69   8.79   7.43\n",
            "24978   91   9.13  -8.16   8.59   9.08  ...  -8.20  -7.23  -8.59   9.13   8.45\n",
            "24979   39  99.00  99.00  99.00  99.00  ...  99.00  99.00  99.00  99.00  99.00\n",
            "24980   37  99.00  99.00  99.00  99.00  ...  99.00  99.00  99.00  99.00  99.00\n",
            "24981   72   2.43   2.67  -3.98   4.27  ...  99.00  99.00  99.00  99.00  99.00\n",
            "\n",
            "[24982 rows x 101 columns]\n"
          ],
          "name": "stdout"
        }
      ]
    },
    {
      "cell_type": "code",
      "metadata": {
        "id": "X7WML1NgA-o2",
        "colab_type": "code",
        "outputId": "eb11c9b5-f7a7-4cd6-e45e-021367f7c3db",
        "colab": {
          "base_uri": "https://localhost:8080/",
          "height": 34
        }
      },
      "source": [
        "arr = df.values\n",
        "print(arr.shape)"
      ],
      "execution_count": 0,
      "outputs": [
        {
          "output_type": "stream",
          "text": [
            "(24982, 101)\n"
          ],
          "name": "stdout"
        }
      ]
    },
    {
      "cell_type": "code",
      "metadata": {
        "id": "XqGg8NqeBFNW",
        "colab_type": "code",
        "outputId": "a258adea-b47d-4295-b826-affddc14882f",
        "colab": {
          "base_uri": "https://localhost:8080/",
          "height": 34
        }
      },
      "source": [
        "rated = np.where(arr!=99)\n",
        "print(len(rated[0]), rated[1].shape)"
      ],
      "execution_count": 0,
      "outputs": [
        {
          "output_type": "stream",
          "text": [
            "1835282 (1835282,)\n"
          ],
          "name": "stdout"
        }
      ]
    },
    {
      "cell_type": "code",
      "metadata": {
        "id": "TEtA41kHBVmv",
        "colab_type": "code",
        "colab": {}
      },
      "source": [
        "def replace(orig, percentage=0.1):\n",
        "  new_data = orig.copy()\n",
        "  rated = np.where(arr!=99)\n",
        "  n_rated = len(rated[0])\n",
        "  idx = np.random.choice(n_rated, size=int(percentage*n_rated), replace=False)\n",
        "  new_data[rated[0][idx], rated[1][idx]] = 99\n",
        "  return new_data, (rated[0][idx], rated[1][idx])"
      ],
      "execution_count": 0,
      "outputs": []
    },
    {
      "cell_type": "code",
      "metadata": {
        "id": "mMNL0viiBoF3",
        "colab_type": "code",
        "colab": {}
      },
      "source": [
        "new_arr, idx = replace(arr, 0.1)"
      ],
      "execution_count": 0,
      "outputs": []
    },
    {
      "cell_type": "code",
      "metadata": {
        "id": "azhCuCNfB6DQ",
        "colab_type": "code",
        "outputId": "4d6a9153-b7e6-41b3-e21e-a3010595920a",
        "colab": {
          "base_uri": "https://localhost:8080/",
          "height": 34
        }
      },
      "source": [
        "arr[idx[0][0], idx[1][0]]"
      ],
      "execution_count": 0,
      "outputs": [
        {
          "output_type": "execute_result",
          "data": {
            "text/plain": [
              "0.68"
            ]
          },
          "metadata": {
            "tags": []
          },
          "execution_count": 14
        }
      ]
    },
    {
      "cell_type": "code",
      "metadata": {
        "id": "N9KPGxBzCEJJ",
        "colab_type": "code",
        "outputId": "af825eb3-67f7-450c-c661-a0960750c775",
        "colab": {
          "base_uri": "https://localhost:8080/",
          "height": 34
        }
      },
      "source": [
        "new_arr[idx[0][0], idx[1][0]]"
      ],
      "execution_count": 0,
      "outputs": [
        {
          "output_type": "execute_result",
          "data": {
            "text/plain": [
              "99.0"
            ]
          },
          "metadata": {
            "tags": []
          },
          "execution_count": 15
        }
      ]
    },
    {
      "cell_type": "code",
      "metadata": {
        "id": "b4N_xEj6IjjX",
        "colab_type": "code",
        "colab": {}
      },
      "source": [
        "#Latent Factor\n",
        "import pandas as pd\n",
        "import numpy as np\n",
        "from IPython.display import Image\n",
        "np.set_printoptions(precision = 3)"
      ],
      "execution_count": 0,
      "outputs": []
    },
    {
      "cell_type": "code",
      "metadata": {
        "id": "0jHwuY3SKYUQ",
        "colab_type": "code",
        "colab": {}
      },
      "source": [
        "n_latent_factors = 2\n",
        "\n",
        "user_ratings = df\n",
        "# Initialise as random values\n",
        "latent_user_preferences = np.random.random((user_ratings.shape[0], n_latent_factors))\n",
        "latent_item_features = np.random.random((user_ratings.shape[1], n_latent_factors))"
      ],
      "execution_count": 0,
      "outputs": []
    },
    {
      "cell_type": "code",
      "metadata": {
        "id": "wrBcKr72K04-",
        "colab_type": "code",
        "outputId": "ccade319-cf44-4611-9e21-2ededa0c22de",
        "colab": {
          "base_uri": "https://localhost:8080/",
          "height": 1000
        }
      },
      "source": [
        "latent_item_features"
      ],
      "execution_count": 0,
      "outputs": [
        {
          "output_type": "execute_result",
          "data": {
            "text/plain": [
              "array([[8.126e-01, 5.855e-01],\n",
              "       [4.546e-01, 2.174e-01],\n",
              "       [1.847e-01, 3.824e-01],\n",
              "       [3.322e-01, 3.349e-01],\n",
              "       [5.965e-01, 2.775e-01],\n",
              "       [4.989e-01, 8.284e-01],\n",
              "       [3.505e-01, 7.598e-01],\n",
              "       [2.307e-01, 7.584e-01],\n",
              "       [6.778e-01, 3.935e-01],\n",
              "       [3.177e-01, 3.504e-02],\n",
              "       [8.860e-01, 6.871e-01],\n",
              "       [5.827e-01, 7.257e-01],\n",
              "       [2.094e-01, 1.020e-01],\n",
              "       [9.959e-01, 1.563e-01],\n",
              "       [4.210e-01, 1.017e-01],\n",
              "       [8.049e-01, 6.136e-03],\n",
              "       [3.139e-01, 9.740e-01],\n",
              "       [8.640e-01, 9.899e-01],\n",
              "       [1.265e-01, 7.736e-01],\n",
              "       [2.982e-01, 2.483e-01],\n",
              "       [6.065e-01, 8.493e-01],\n",
              "       [9.003e-01, 3.447e-01],\n",
              "       [3.404e-01, 6.956e-01],\n",
              "       [9.545e-01, 3.320e-01],\n",
              "       [4.338e-01, 6.201e-01],\n",
              "       [6.590e-01, 9.375e-01],\n",
              "       [5.674e-01, 2.142e-01],\n",
              "       [9.344e-01, 8.447e-01],\n",
              "       [4.393e-01, 1.942e-01],\n",
              "       [7.634e-01, 2.323e-01],\n",
              "       [4.474e-01, 5.630e-01],\n",
              "       [3.063e-01, 9.823e-01],\n",
              "       [1.338e-01, 6.455e-01],\n",
              "       [1.830e-01, 1.667e-01],\n",
              "       [8.661e-01, 9.289e-01],\n",
              "       [4.496e-01, 7.955e-01],\n",
              "       [9.530e-01, 9.895e-01],\n",
              "       [8.954e-01, 5.270e-04],\n",
              "       [9.439e-03, 2.284e-01],\n",
              "       [7.874e-01, 1.659e-01],\n",
              "       [2.868e-01, 9.782e-01],\n",
              "       [3.525e-01, 1.952e-01],\n",
              "       [6.439e-01, 3.911e-01],\n",
              "       [5.139e-01, 1.950e-01],\n",
              "       [5.135e-01, 3.241e-01],\n",
              "       [1.264e-01, 9.008e-01],\n",
              "       [8.653e-01, 7.290e-01],\n",
              "       [5.576e-01, 5.691e-01],\n",
              "       [2.458e-02, 9.765e-01],\n",
              "       [7.958e-01, 9.325e-01],\n",
              "       [5.763e-01, 3.510e-01],\n",
              "       [9.192e-01, 3.156e-01],\n",
              "       [7.690e-02, 4.211e-01],\n",
              "       [9.381e-01, 1.500e-01],\n",
              "       [5.224e-01, 8.052e-01],\n",
              "       [2.422e-01, 7.869e-01],\n",
              "       [3.182e-01, 5.031e-01],\n",
              "       [6.229e-01, 4.641e-02],\n",
              "       [2.721e-01, 7.743e-01],\n",
              "       [8.188e-01, 7.108e-02],\n",
              "       [3.701e-01, 7.897e-01],\n",
              "       [1.240e-01, 1.932e-01],\n",
              "       [3.837e-01, 6.279e-01],\n",
              "       [5.810e-01, 7.528e-01],\n",
              "       [5.634e-01, 3.655e-01],\n",
              "       [1.865e-01, 3.359e-01],\n",
              "       [8.629e-01, 2.382e-02],\n",
              "       [9.093e-01, 9.896e-01],\n",
              "       [8.075e-01, 7.877e-01],\n",
              "       [1.621e-01, 9.867e-01],\n",
              "       [9.754e-02, 9.537e-01],\n",
              "       [1.751e-01, 3.556e-01],\n",
              "       [4.998e-02, 3.577e-01],\n",
              "       [3.720e-01, 2.816e-01],\n",
              "       [6.650e-02, 8.541e-01],\n",
              "       [6.012e-01, 5.229e-01],\n",
              "       [7.459e-01, 3.332e-01],\n",
              "       [5.886e-02, 2.139e-01],\n",
              "       [4.076e-01, 3.424e-01],\n",
              "       [9.448e-01, 2.812e-01],\n",
              "       [4.021e-01, 5.465e-01],\n",
              "       [9.967e-01, 3.411e-01],\n",
              "       [5.424e-01, 5.539e-01],\n",
              "       [4.834e-01, 9.005e-01],\n",
              "       [3.332e-01, 8.602e-01],\n",
              "       [4.072e-01, 5.569e-01],\n",
              "       [1.756e-01, 3.681e-01],\n",
              "       [6.974e-01, 6.613e-01],\n",
              "       [1.501e-01, 9.085e-01],\n",
              "       [2.539e-01, 4.807e-01],\n",
              "       [2.287e-01, 4.934e-02],\n",
              "       [5.505e-01, 3.243e-01],\n",
              "       [8.530e-01, 4.857e-01],\n",
              "       [9.741e-01, 4.766e-01],\n",
              "       [6.478e-02, 4.592e-01],\n",
              "       [2.399e-01, 4.911e-01],\n",
              "       [3.880e-01, 5.197e-01],\n",
              "       [2.718e-01, 1.581e-01],\n",
              "       [5.963e-02, 2.494e-01],\n",
              "       [9.743e-01, 1.810e-01],\n",
              "       [8.977e-01, 1.555e-01]])"
            ]
          },
          "metadata": {
            "tags": []
          },
          "execution_count": 22
        }
      ]
    },
    {
      "cell_type": "code",
      "metadata": {
        "id": "TevSVdSuK6H4",
        "colab_type": "code",
        "outputId": "83e2de21-4e78-4499-a07a-b7a5dd620d2f",
        "colab": {
          "base_uri": "https://localhost:8080/",
          "height": 136
        }
      },
      "source": [
        "latent_user_preferences"
      ],
      "execution_count": 0,
      "outputs": [
        {
          "output_type": "execute_result",
          "data": {
            "text/plain": [
              "array([[0.688, 0.861],\n",
              "       [0.843, 0.175],\n",
              "       [0.399, 0.287],\n",
              "       ...,\n",
              "       [0.304, 0.159],\n",
              "       [0.04 , 0.548],\n",
              "       [0.933, 0.473]])"
            ]
          },
          "metadata": {
            "tags": []
          },
          "execution_count": 23
        }
      ]
    },
    {
      "cell_type": "code",
      "metadata": {
        "id": "SkC4uPQNLG4Z",
        "colab_type": "code",
        "colab": {}
      },
      "source": [
        "def predict_rating(user_id, item_id):\n",
        "    \"\"\" Predict a rating given a user_id and an item_id.\n",
        "    \"\"\"\n",
        "    user_preference = latent_user_preferences[user_id]\n",
        "    item_preference = latent_item_features[item_id]\n",
        "    return user_preference.dot(item_preference)\n",
        "\n",
        "\n",
        "def train(user_id, item_id, rating, alpha=0.0001):\n",
        "    \n",
        "    #print item_id\n",
        "    prediction_rating = predict_rating(user_id, item_id)\n",
        "    err =  prediction_rating - rating\n",
        "    #print err\n",
        "    user_pref_values = latent_user_preferences[user_id][:]\n",
        "    latent_user_preferences[user_id] -= alpha * err * latent_item_features[item_id]\n",
        "    latent_item_features[item_id] -= alpha * err * user_pref_values\n",
        "    return err\n",
        "    \n",
        "\n",
        "def sgd(iterations=300000):\n",
        "    \"\"\" Iterate over all users and all items and train for \n",
        "        a certain number of iterations\n",
        "    \"\"\"\n",
        "    for iteration in range(iterations):\n",
        "        error = []\n",
        "        for user_id in range(latent_user_preferences.shape[0]):\n",
        "            for item_id in range(latent_item_features.shape[0]):\n",
        "                rating = user_ratings[user_id][item_id]\n",
        "                if not np.isnan(rating):\n",
        "                    err = train(user_id, item_id, rating)\n",
        "                    error.append(err)\n",
        "        mse = (np.array(error) ** 2).mean()   \n",
        "        if (iteration % 10000) == 0:\n",
        "            print(mse)"
      ],
      "execution_count": 0,
      "outputs": []
    },
    {
      "cell_type": "code",
      "metadata": {
        "id": "Faq0--VcLKGy",
        "colab_type": "code",
        "outputId": "88e11dd9-aca4-4275-bd3a-1f521a4d7634",
        "colab": {
          "base_uri": "https://localhost:8080/",
          "height": 136
        }
      },
      "source": [
        "predictions = latent_user_preferences.dot(latent_item_features.T)\n",
        "predictions"
      ],
      "execution_count": 0,
      "outputs": [
        {
          "output_type": "execute_result",
          "data": {
            "text/plain": [
              "array([[1.064, 0.5  , 0.456, ..., 0.256, 0.826, 0.752],\n",
              "       [0.788, 0.421, 0.223, ..., 0.094, 0.853, 0.784],\n",
              "       [0.492, 0.244, 0.183, ..., 0.095, 0.44 , 0.402],\n",
              "       ...,\n",
              "       [0.34 , 0.173, 0.117, ..., 0.058, 0.325, 0.298],\n",
              "       [0.353, 0.137, 0.217, ..., 0.139, 0.138, 0.121],\n",
              "       [1.035, 0.527, 0.353, ..., 0.174, 0.995, 0.911]])"
            ]
          },
          "metadata": {
            "tags": []
          },
          "execution_count": 30
        }
      ]
    }
  ]
}