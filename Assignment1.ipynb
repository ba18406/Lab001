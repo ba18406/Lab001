{
  "nbformat": 4,
  "nbformat_minor": 0,
  "metadata": {
    "colab": {
      "name": "Untitled7.ipynb",
      "provenance": [],
      "authorship_tag": "ABX9TyN519bDHQVV8ujFNCNczb5e",
      "include_colab_link": true
    },
    "kernelspec": {
      "name": "python3",
      "display_name": "Python 3"
    }
  },
  "cells": [
    {
      "cell_type": "markdown",
      "metadata": {
        "id": "view-in-github",
        "colab_type": "text"
      },
      "source": [
        "<a href=\"https://colab.research.google.com/github/ba18406/Lab001/blob/master/Assignment1.ipynb\" target=\"_parent\"><img src=\"https://colab.research.google.com/assets/colab-badge.svg\" alt=\"Open In Colab\"/></a>"
      ]
    },
    {
      "cell_type": "code",
      "metadata": {
        "id": "vX58-T8hdQ1O",
        "colab_type": "code",
        "colab": {}
      },
      "source": [
        "import pandas as pd\n",
        "from collections import Counter\n",
        "import matplotlib.pyplot as plt\n",
        "import random\n",
        "from sklearn.preprocessing import LabelEncoder\n",
        "from sklearn.impute import SimpleImputer"
      ],
      "execution_count": 0,
      "outputs": []
    },
    {
      "cell_type": "code",
      "metadata": {
        "id": "aNx69qn5dpxF",
        "colab_type": "code",
        "colab": {}
      },
      "source": [
        "data = pd.read_csv(\"heart.csv\")\n",
        "data.head()"
      ],
      "execution_count": 0,
      "outputs": []
    },
    {
      "cell_type": "code",
      "metadata": {
        "id": "KN5q5AL6d26T",
        "colab_type": "code",
        "colab": {}
      },
      "source": [
        "chol_count = Counter(data['chol'])"
      ],
      "execution_count": 0,
      "outputs": []
    },
    {
      "cell_type": "code",
      "metadata": {
        "id": "g5Di6exKd9Be",
        "colab_type": "code",
        "colab": {}
      },
      "source": [
        "#38% true and 61% false\n",
        "print(\"\\nDataSet 1\\nImbalance: \", (chol_count[0]/(chol_count[0]+chol_count[1]))*100, \"%\")\n",
        "print(chol_count) \n",
        "\n",
        "fig, ax = plt.subplots(1, 3, sharey=True, tight_layout=True, figsize=(9,3))\n",
        "ax[0].hist(data['chol'])"
      ],
      "execution_count": 0,
      "outputs": []
    },
    {
      "cell_type": "code",
      "metadata": {
        "id": "KwOg7AmfeHlx",
        "colab_type": "code",
        "colab": {}
      },
      "source": [
        "#sns.pairplot(data, hue='Survived');\n",
        "\n",
        "malesData = data[data['Sex'] == 'male']             #Comparision of chol Rate between Males and Females\n",
        "femalesData = data[data['Sex'] == 'female']\n",
        "\n",
        "ax[1].hist(malesData['chol'])\n",
        "ax[2].hist(femalesData['chol'])\n",
        "\n",
        "data2 = pd.read_csv(\"travel insurance.csv\")\n",
        "data.head()\n",
        "Destination_count = Counter(data2['Destination'])\n",
        "print(\"/Users/badaralkharusi/Desktop/Data Science: \", (Destination_count[0]/(Destination_count[0]+Destination_count[1]))*100, \"%\")\n",
        "print(Destination_count)"
      ],
      "execution_count": 0,
      "outputs": []
    },
    {
      "cell_type": "code",
      "metadata": {
        "id": "5HPNn8OCeJu6",
        "colab_type": "code",
        "colab": {}
      },
      "source": [
        "#downsampling 0 Destination in dataset2\n",
        "indexNames = data2[(data2['Destination'] == 0)].index\n",
        "percentageToRemove = 0.98 #Removing 98% of 0 Destination elements\n",
        "toRemove = int(Destination_count[0] * percentageToRemove)\n",
        "indexesToRemove = random.sample(indexNames.tolist(), toRemove)\n",
        "data2 = data2.drop(indexesToRemove)\n",
        "Destination_count = Counter(data2['Destination'])\n",
        "print(\"/Users/badaralkharusi/Desktop/Data Science: \", (Destination_count[0]/(Destination_count[0]+Destination_count[1]))*100, \"%\")\n",
        "print(Destination_count)\n",
        "\n",
        "fig2, ax2 = plt.subplots(tight_layout=True)\n",
        "ax2.hist(data2['Destination'])\n",
        "\n",
        "data3 = pd.read_csv(\"Datos_HT.csv\")\n",
        "Away midfield_count = Counter(data3['Away midfield > 6'])\n",
        "print(\"/Users/badaralkharusi/Desktop/Data Science: \", (Away midfield_count[0]/(Away midfield_count[0]+Away midfield_count[1]))*100, \"%\")\n",
        "print(Away midfield_count)\n",
        "\n",
        "fig3, ax3 = plt.subplots(tight_layout=True)\n",
        "ax3.hist(data3['Away midfield>6'])"
      ],
      "execution_count": 0,
      "outputs": []
    },
    {
      "cell_type": "code",
      "metadata": {
        "id": "oC6EVUjseWTe",
        "colab_type": "code",
        "colab": {}
      },
      "source": [
        "#Encoding categorical variables in dataSet1\n",
        "encoder1 = LabelEncoder()\n",
        "data['Sex'] = encoder1.fit_transform(data['Sex'])"
      ],
      "execution_count": 0,
      "outputs": []
    },
    {
      "cell_type": "code",
      "metadata": {
        "id": "KB5e_C3webCs",
        "colab_type": "code",
        "colab": {}
      },
      "source": [
        "#Encoding categorical variables in dataSet3\n",
        "encoder2 = LabelEncoder()\n",
        "data2['Agency Type'] = encoder2.fit_transform(data2['Agency Type'])\n",
        "encoder3 = LabelEncoder()\n",
        "data2['Product Name'] = encoder3.fit_transform(data3['Product Name'])\n",
        "encoder4 = LabelEncoder()\n",
        "data2['Claim'] = encoder4.fit_transform(data3['Claim'])\n",
        "encoder5 = LabelEncoder()\n",
        "data2['Duration'] = encoder5.fit_transform(data3['Duration'])\n",
        "encoder6 = LabelEncoder()\n",
        "data2['Net Sales'] = encoder6.fit_transform(data3['Net Sales'])\n",
        "encoder7 = LabelEncoder()\n",
        "data2['Commision (in value)'] = encoder7.fit_transform(data2['Commision (in value)'])\n",
        "encoder8 = LabelEncoder()\n",
        "data2['Gender'] = encoder8.fit_transform(data2['Gender'])\n",
        "encoder9 = LabelEncoder()\n",
        "data2['Age'] = encoder9.fit_transform(data2['Age'])"
      ],
      "execution_count": 0,
      "outputs": []
    }
  ]
}