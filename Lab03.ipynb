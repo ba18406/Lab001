{
  "nbformat": 4,
  "nbformat_minor": 0,
  "metadata": {
    "colab": {
      "name": "Untitled19.ipynb",
      "provenance": [],
      "authorship_tag": "ABX9TyMjc87X4I9977u0x0i7rIIU",
      "include_colab_link": true
    },
    "kernelspec": {
      "name": "python3",
      "display_name": "Python 3"
    },
    "accelerator": "GPU"
  },
  "cells": [
    {
      "cell_type": "markdown",
      "metadata": {
        "id": "view-in-github",
        "colab_type": "text"
      },
      "source": [
        "<a href=\"https://colab.research.google.com/github/ba18406/Lab001/blob/master/Lab03.ipynb\" target=\"_parent\"><img src=\"https://colab.research.google.com/assets/colab-badge.svg\" alt=\"Open In Colab\"/></a>"
      ]
    },
    {
      "cell_type": "code",
      "metadata": {
        "id": "TFTVV2tb4gr3",
        "colab_type": "code",
        "colab": {}
      },
      "source": [
        "#Task 1: Check the counts of each wine class\n",
        "#Task 2: Cluster wine data using K Means Algorithm\n",
        "#Task 3: Scatter plot wine data into 3 classes based on True Labaels and plot with legends. Hint: use any two variables\n",
        "#Task 4: Use cluster model labels to group data based on predicted classes\n",
        "#Task 5: Apply PCA with n_components=2 on X_train_std wine data and transform test data accordingly\n",
        "#Task 6: Apply Logistic Regression on training features and predict test features"
      ],
      "execution_count": 0,
      "outputs": []
    },
    {
      "cell_type": "code",
      "metadata": {
        "id": "BRh0Ik8M6vc2",
        "colab_type": "code",
        "colab": {
          "base_uri": "https://localhost:8080/",
          "height": 258
        },
        "outputId": "7c901dd5-d95a-4a7b-baf0-3e52c8d79751"
      },
      "source": [
        "import pandas as pd\n",
        "import numpy as np\n",
        "import warnings\n",
        "warnings.filterwarnings('ignore')\n",
        "\n",
        "df_wine = pd.read_csv('https://archive.ics.uci.edu/ml/'\n",
        "                      'machine-learning-databases/wine/wine.data',\n",
        "                      header=None)\n",
        "\n",
        "# if the Wine dataset is temporarily unavailable from the\n",
        "# UCI machine learning repository, un-comment the following line\n",
        "# of code to load the dataset from a local path:\n",
        "\n",
        "# df_wine = pd.read_csv('wine.data', header=None)\n",
        "\n",
        "df_wine.columns = ['Class label', 'Alcohol', 'Malic acid', 'Ash',\n",
        "                   'Alcalinity of ash', 'Magnesium', 'Total phenols',\n",
        "                   'Flavanoids', 'Nonflavanoid phenols', 'Proanthocyanins',\n",
        "                   'Color intensity', 'Hue',\n",
        "                   'OD280/OD315 of diluted wines', 'Proline']\n",
        "\n",
        "df_wine.head()\n",
        "#df_wine.to_csv('WindeData.csv')"
      ],
      "execution_count": 1,
      "outputs": [
        {
          "output_type": "execute_result",
          "data": {
            "text/html": [
              "<div>\n",
              "<style scoped>\n",
              "    .dataframe tbody tr th:only-of-type {\n",
              "        vertical-align: middle;\n",
              "    }\n",
              "\n",
              "    .dataframe tbody tr th {\n",
              "        vertical-align: top;\n",
              "    }\n",
              "\n",
              "    .dataframe thead th {\n",
              "        text-align: right;\n",
              "    }\n",
              "</style>\n",
              "<table border=\"1\" class=\"dataframe\">\n",
              "  <thead>\n",
              "    <tr style=\"text-align: right;\">\n",
              "      <th></th>\n",
              "      <th>Class label</th>\n",
              "      <th>Alcohol</th>\n",
              "      <th>Malic acid</th>\n",
              "      <th>Ash</th>\n",
              "      <th>Alcalinity of ash</th>\n",
              "      <th>Magnesium</th>\n",
              "      <th>Total phenols</th>\n",
              "      <th>Flavanoids</th>\n",
              "      <th>Nonflavanoid phenols</th>\n",
              "      <th>Proanthocyanins</th>\n",
              "      <th>Color intensity</th>\n",
              "      <th>Hue</th>\n",
              "      <th>OD280/OD315 of diluted wines</th>\n",
              "      <th>Proline</th>\n",
              "    </tr>\n",
              "  </thead>\n",
              "  <tbody>\n",
              "    <tr>\n",
              "      <th>0</th>\n",
              "      <td>1</td>\n",
              "      <td>14.23</td>\n",
              "      <td>1.71</td>\n",
              "      <td>2.43</td>\n",
              "      <td>15.6</td>\n",
              "      <td>127</td>\n",
              "      <td>2.80</td>\n",
              "      <td>3.06</td>\n",
              "      <td>0.28</td>\n",
              "      <td>2.29</td>\n",
              "      <td>5.64</td>\n",
              "      <td>1.04</td>\n",
              "      <td>3.92</td>\n",
              "      <td>1065</td>\n",
              "    </tr>\n",
              "    <tr>\n",
              "      <th>1</th>\n",
              "      <td>1</td>\n",
              "      <td>13.20</td>\n",
              "      <td>1.78</td>\n",
              "      <td>2.14</td>\n",
              "      <td>11.2</td>\n",
              "      <td>100</td>\n",
              "      <td>2.65</td>\n",
              "      <td>2.76</td>\n",
              "      <td>0.26</td>\n",
              "      <td>1.28</td>\n",
              "      <td>4.38</td>\n",
              "      <td>1.05</td>\n",
              "      <td>3.40</td>\n",
              "      <td>1050</td>\n",
              "    </tr>\n",
              "    <tr>\n",
              "      <th>2</th>\n",
              "      <td>1</td>\n",
              "      <td>13.16</td>\n",
              "      <td>2.36</td>\n",
              "      <td>2.67</td>\n",
              "      <td>18.6</td>\n",
              "      <td>101</td>\n",
              "      <td>2.80</td>\n",
              "      <td>3.24</td>\n",
              "      <td>0.30</td>\n",
              "      <td>2.81</td>\n",
              "      <td>5.68</td>\n",
              "      <td>1.03</td>\n",
              "      <td>3.17</td>\n",
              "      <td>1185</td>\n",
              "    </tr>\n",
              "    <tr>\n",
              "      <th>3</th>\n",
              "      <td>1</td>\n",
              "      <td>14.37</td>\n",
              "      <td>1.95</td>\n",
              "      <td>2.50</td>\n",
              "      <td>16.8</td>\n",
              "      <td>113</td>\n",
              "      <td>3.85</td>\n",
              "      <td>3.49</td>\n",
              "      <td>0.24</td>\n",
              "      <td>2.18</td>\n",
              "      <td>7.80</td>\n",
              "      <td>0.86</td>\n",
              "      <td>3.45</td>\n",
              "      <td>1480</td>\n",
              "    </tr>\n",
              "    <tr>\n",
              "      <th>4</th>\n",
              "      <td>1</td>\n",
              "      <td>13.24</td>\n",
              "      <td>2.59</td>\n",
              "      <td>2.87</td>\n",
              "      <td>21.0</td>\n",
              "      <td>118</td>\n",
              "      <td>2.80</td>\n",
              "      <td>2.69</td>\n",
              "      <td>0.39</td>\n",
              "      <td>1.82</td>\n",
              "      <td>4.32</td>\n",
              "      <td>1.04</td>\n",
              "      <td>2.93</td>\n",
              "      <td>735</td>\n",
              "    </tr>\n",
              "  </tbody>\n",
              "</table>\n",
              "</div>"
            ],
            "text/plain": [
              "   Class label  Alcohol  ...  OD280/OD315 of diluted wines  Proline\n",
              "0            1    14.23  ...                          3.92     1065\n",
              "1            1    13.20  ...                          3.40     1050\n",
              "2            1    13.16  ...                          3.17     1185\n",
              "3            1    14.37  ...                          3.45     1480\n",
              "4            1    13.24  ...                          2.93      735\n",
              "\n",
              "[5 rows x 14 columns]"
            ]
          },
          "metadata": {
            "tags": []
          },
          "execution_count": 1
        }
      ]
    },
    {
      "cell_type": "code",
      "metadata": {
        "id": "k3tcAM5H623g",
        "colab_type": "code",
        "colab": {
          "base_uri": "https://localhost:8080/",
          "height": 34
        },
        "outputId": "626fa981-0ded-47a2-b0b7-5819bb89a55c"
      },
      "source": [
        "# Task 1:\n",
        "# Check the counts of each wine class\n",
        "\n",
        "from collections import Counter\n",
        "winesCount = dict(Counter(df_wine['Class label']))\n",
        "print(winesCount)"
      ],
      "execution_count": 2,
      "outputs": [
        {
          "output_type": "stream",
          "text": [
            "{1: 59, 2: 71, 3: 48}\n"
          ],
          "name": "stdout"
        }
      ]
    },
    {
      "cell_type": "code",
      "metadata": {
        "id": "NuKsn43q66vx",
        "colab_type": "code",
        "colab": {
          "base_uri": "https://localhost:8080/",
          "height": 340
        },
        "outputId": "5d14d788-0801-4b9b-acc0-cb77d73fd9a9"
      },
      "source": [
        "# Fetch data into x and y variables\n",
        "x=df_wine.ix[:,1:14] # Covariates or input\n",
        "y=df_wine.ix[:,:1] # Labels or classes or output\n",
        "\n",
        "#print(x)\n",
        "#print(y)\n",
        "\n",
        "import matplotlib.pyplot as plt \n",
        "plt.figure(figsize=(8,5))\n",
        "plt.title(\"Wines Scatter plot\", fontsize=18)\n",
        "plt.grid(True)\n",
        "plt.scatter(df_wine['Alcohol'], df_wine['Ash'])\n",
        "plt.savefig('CIRCLE.png', dpi=300)\n",
        "plt.show()"
      ],
      "execution_count": 3,
      "outputs": [
        {
          "output_type": "display_data",
          "data": {
            "image/png": "[encoded data removed]",
            "text/plain": [
              "<Figure size 576x360 with 1 Axes>"
            ]
          },
          "metadata": {
            "tags": []
          }
        }
      ]
    },
    {
      "cell_type": "code",
      "metadata": {
        "id": "P2CEGYkr6-Oh",
        "colab_type": "code",
        "colab": {
          "base_uri": "https://localhost:8080/",
          "height": 340
        },
        "outputId": "21e8ee8e-57dc-4caf-bc0c-4734e90606a0"
      },
      "source": [
        "# Task 2\n",
        "# Clustering using K Means Algorithm\n",
        "\n",
        "from sklearn import cluster, datasets, metrics\n",
        "km=cluster.KMeans(n_clusters=3)\n",
        "km.fit(df_wine)\n",
        "km.labels_\n",
        "\n",
        "# Task 3\n",
        "# Scatter plot data into 3 classes based on True Labaels and plot with legends. Hint: use any two variables\n",
        "\n",
        "plt.figure(figsize=(8,5))\n",
        "plt.title(\"Wine Data\", fontsize=18)\n",
        "plt.grid(True)\n",
        "plt.scatter(df_wine['Alcohol'], df_wine['OD280/OD315 of diluted wines'],c=df_wine['Class label'])\n",
        "plt.show()"
      ],
      "execution_count": 4,
      "outputs": [
        {
          "output_type": "display_data",
          "data": {
            "image/png": "[encoded data removed]",
            "text/plain": [
              "<Figure size 576x360 with 1 Axes>"
            ]
          },
          "metadata": {
            "tags": []
          }
        }
      ]
    },
    {
      "cell_type": "code",
      "metadata": {
        "id": "KFtCvhLZ7FsA",
        "colab_type": "code",
        "colab": {
          "base_uri": "https://localhost:8080/",
          "height": 340
        },
        "outputId": "8e222734-0432-4e28-f6a4-a5f80c9ce359"
      },
      "source": [
        "# Task 4\n",
        "# Use cluster model labels two group them in predicted classes\n",
        "\n",
        "plt.figure(figsize=(8,5))\n",
        "plt.title(\"Wine Data\", fontsize=18)\n",
        "plt.grid(True)\n",
        "plt.scatter(df_wine['Alcohol'], df_wine['OD280/OD315 of diluted wines'],c=km.labels_)\n",
        "plt.show()"
      ],
      "execution_count": 5,
      "outputs": [
        {
          "output_type": "display_data",
          "data": {
            "image/png": "[encoded data removed]",
            "text/plain": [
              "<Figure size 576x360 with 1 Axes>"
            ]
          },
          "metadata": {
            "tags": []
          }
        }
      ]
    },
    {
      "cell_type": "code",
      "metadata": {
        "id": "-_q8X7eA7Jqe",
        "colab_type": "code",
        "colab": {
          "base_uri": "https://localhost:8080/",
          "height": 221
        },
        "outputId": "8f5eee7d-de83-40c5-b9f8-a86bf9431a42"
      },
      "source": [
        "# Now we have splitted the data into 70:30 training and test subsets, respectively.\n",
        "\n",
        "from sklearn.model_selection import train_test_split\n",
        "\n",
        "X, y = df_wine.iloc[:, 1:].values, df_wine.iloc[:, 0].values\n",
        "\n",
        "X_train, X_test, y_train, y_test = train_test_split(X, y, test_size=0.3, stratify=y, random_state=0)\n",
        "print(pd.value_counts(pd.Series(y)))\n",
        "print(pd.value_counts(pd.Series(y_train)))\n",
        "print(pd.value_counts(pd.Series(y_test)))"
      ],
      "execution_count": 6,
      "outputs": [
        {
          "output_type": "stream",
          "text": [
            "2    71\n",
            "1    59\n",
            "3    48\n",
            "dtype: int64\n",
            "2    50\n",
            "1    41\n",
            "3    33\n",
            "dtype: int64\n",
            "2    21\n",
            "1    18\n",
            "3    15\n",
            "dtype: int64\n"
          ],
          "name": "stdout"
        }
      ]
    },
    {
      "cell_type": "code",
      "metadata": {
        "id": "LJG1sjN_7NL-",
        "colab_type": "code",
        "colab": {}
      },
      "source": [
        "# Standardizing the data\n",
        "# Standardize features by removing the mean and scaling to unit variance\n",
        "# The standard score of a sample x is calculated as:\n",
        "# z = (x - u) / s\n",
        "\n",
        "from sklearn.preprocessing import StandardScaler\n",
        "sc = StandardScaler()\n",
        "X_train_std = sc.fit_transform(X_train)\n",
        "X_test_std = sc.transform(X_test)"
      ],
      "execution_count": 0,
      "outputs": []
    },
    {
      "cell_type": "code",
      "metadata": {
        "id": "U0erGpz-7Qls",
        "colab_type": "code",
        "colab": {
          "base_uri": "https://localhost:8080/",
          "height": 279
        },
        "outputId": "312cd151-80b1-4b29-c480-5c9381b11a9b"
      },
      "source": [
        "from sklearn.decomposition import PCA\n",
        "pca = PCA()\n",
        "X_train_pca = pca.fit_transform(X_train_std)\n",
        "pca.explained_variance_ratio_\n",
        "\n",
        "import matplotlib.pyplot as plt\n",
        "plt.bar(range(1, 14), pca.explained_variance_ratio_, alpha=0.5, align='center')\n",
        "plt.step(range(1, 14), np.cumsum(pca.explained_variance_ratio_), where='mid')\n",
        "plt.ylabel('Explained variance ratio')\n",
        "plt.xlabel('Principal components')\n",
        "plt.savefig('PCA_WINE.png', dpi=300)\n",
        "plt.show()"
      ],
      "execution_count": 8,
      "outputs": [
        {
          "output_type": "display_data",
          "data": {
            "image/png": "[encoded data removed]",
            "text/plain": [
              "<Figure size 432x288 with 1 Axes>"
            ]
          },
          "metadata": {
            "tags": []
          }
        }
      ]
    },
    {
      "cell_type": "code",
      "metadata": {
        "id": "aXK9aMat7VwZ",
        "colab_type": "code",
        "colab": {}
      },
      "source": [
        "pca = PCA(n_components=2)\n",
        "X_train_pca = pca.fit_transform(X_train_std)\n",
        "X_test_pca = pca.transform(X_test_std)"
      ],
      "execution_count": 0,
      "outputs": []
    },
    {
      "cell_type": "code",
      "metadata": {
        "id": "agINi4Ch7Y9X",
        "colab_type": "code",
        "colab": {
          "base_uri": "https://localhost:8080/",
          "height": 279
        },
        "outputId": "2b0079ae-c4dd-4a5b-b0a8-bb799fae29a5"
      },
      "source": [
        "plt.scatter(X_train_pca[:, 0], X_train_pca[:, 1])\n",
        "plt.xlabel('PC 1')\n",
        "plt.ylabel('PC 2')\n",
        "plt.savefig('PCA_WINE_ULBL.png', dpi=300)\n",
        "plt.show()"
      ],
      "execution_count": 10,
      "outputs": [
        {
          "output_type": "display_data",
          "data": {
            "image/png": "[encoded data removed]",
            "text/plain": [
              "<Figure size 432x288 with 1 Axes>"
            ]
          },
          "metadata": {
            "tags": []
          }
        }
      ]
    },
    {
      "cell_type": "code",
      "metadata": {
        "id": "oqosmtrD7k2R",
        "colab_type": "code",
        "colab": {
          "base_uri": "https://localhost:8080/",
          "height": 279
        },
        "outputId": "5ed7260a-c9dc-4335-e694-2638a44f2ec7"
      },
      "source": [
        "colors = ['r', 'b', 'g']\n",
        "markers = ['s', 'x', 'o']\n",
        "\n",
        "for l, c, m in zip(np.unique(y_train), colors, markers):\n",
        "    plt.scatter(X_train_pca[y_train == l, 0], \n",
        "                X_train_pca[y_train == l, 1], \n",
        "                c=c, label=l, marker=m)\n",
        "    plt.xlabel('PC 1')\n",
        "    plt.ylabel('PC 2')\n",
        "    plt.legend()\n",
        "    plt.savefig('PCA_WINE_LBL.png', dpi=300)"
      ],
      "execution_count": 11,
      "outputs": [
        {
          "output_type": "display_data",
          "data": {
            "image/png": "[encoded data removed]",
            "text/plain": [
              "<Figure size 432x288 with 1 Axes>"
            ]
          },
          "metadata": {
            "tags": []
          }
        }
      ]
    },
    {
      "cell_type": "code",
      "metadata": {
        "id": "I-9qVZzH7qW8",
        "colab_type": "code",
        "colab": {
          "base_uri": "https://localhost:8080/",
          "height": 34
        },
        "outputId": "95ef1035-0e57-480d-a48a-fe118c9a3b82"
      },
      "source": [
        "from sklearn.linear_model import LogisticRegression\n",
        "from sklearn.metrics import accuracy_score\n",
        "\n",
        "lr = LogisticRegression()\n",
        "lr = lr.fit(X_train_pca, y_train) # Train a Logistic regression model\n",
        "pred_lab=lr.predict(X_test_pca) # Test on the test data\n",
        "print(\"Accuracy on test is = %f\" % (100 * accuracy_score(y_test, pred_lab)))"
      ],
      "execution_count": 12,
      "outputs": [
        {
          "output_type": "stream",
          "text": [
            "Accuracy on test is = 92.592593\n"
          ],
          "name": "stdout"
        }
      ]
    },
    {
      "cell_type": "code",
      "metadata": {
        "id": "x8cTU-8Y7vHS",
        "colab_type": "code",
        "colab": {}
      },
      "source": [
        "from matplotlib.colors import ListedColormap\n",
        "\n",
        "def plot_decision_regions(X, y, classifier, resolution=0.02):\n",
        "\n",
        "    # setup marker generator and color map\n",
        "    markers = ('s', 'x', 'o', '^', 'v')\n",
        "    colors = ('red', 'blue', 'lightgreen', 'gray', 'cyan')\n",
        "    cmap = ListedColormap(colors[:len(np.unique(y))])\n",
        "\n",
        "    # plot the decision surface\n",
        "    x1_min, x1_max = X[:, 0].min() - 1, X[:, 0].max() + 1\n",
        "    x2_min, x2_max = X[:, 1].min() - 1, X[:, 1].max() + 1\n",
        "    xx1, xx2 = np.meshgrid(np.arange(x1_min, x1_max, resolution),\n",
        "                           np.arange(x2_min, x2_max, resolution))\n",
        "    Z = classifier.predict(np.array([xx1.ravel(), xx2.ravel()]).T)\n",
        "    Z = Z.reshape(xx1.shape)\n",
        "    plt.contourf(xx1, xx2, Z, alpha=0.4, cmap=cmap)\n",
        "    plt.xlim(xx1.min(), xx1.max())\n",
        "    plt.ylim(xx2.min(), xx2.max())\n",
        "\n",
        "    # plot class samples\n",
        "    for idx, cl in enumerate(np.unique(y)):\n",
        "        plt.scatter(x=X[y == cl, 0], \n",
        "                    y=X[y == cl, 1],\n",
        "                    alpha=0.6, \n",
        "                    c=cmap(idx),\n",
        "                    edgecolor='black',\n",
        "                    marker=markers[idx], \n",
        "                    label=cl)"
      ],
      "execution_count": 0,
      "outputs": []
    },
    {
      "cell_type": "code",
      "metadata": {
        "id": "NjQQuOor7y-Z",
        "colab_type": "code",
        "colab": {
          "base_uri": "https://localhost:8080/",
          "height": 384
        },
        "outputId": "37b796c6-1742-4c0d-bbba-591e68a5ca91"
      },
      "source": [
        "plot_decision_regions(X_train_pca, y_train, classifier=lr)\n",
        "plt.xlabel('PC 1')\n",
        "plt.ylabel('PC 2')\n",
        "plt.legend(loc='lower left')\n",
        "plt.tight_layout()\n",
        "plt.title('Plot on the training data')\n",
        "plt.savefig('TRAIN_CLASS.png', dpi=300)\n",
        "plt.show()"
      ],
      "execution_count": 14,
      "outputs": [
        {
          "output_type": "stream",
          "text": [
            "'c' argument looks like a single numeric RGB or RGBA sequence, which should be avoided as value-mapping will have precedence in case its length matches with 'x' & 'y'.  Please use a 2-D array with a single row if you really want to specify the same RGB or RGBA value for all points.\n",
            "'c' argument looks like a single numeric RGB or RGBA sequence, which should be avoided as value-mapping will have precedence in case its length matches with 'x' & 'y'.  Please use a 2-D array with a single row if you really want to specify the same RGB or RGBA value for all points.\n",
            "'c' argument looks like a single numeric RGB or RGBA sequence, which should be avoided as value-mapping will have precedence in case its length matches with 'x' & 'y'.  Please use a 2-D array with a single row if you really want to specify the same RGB or RGBA value for all points.\n"
          ],
          "name": "stderr"
        },
        {
          "output_type": "display_data",
          "data": {
            "image/png": "[encoded data removed]",
            "text/plain": [
              "<Figure size 432x288 with 1 Axes>"
            ]
          },
          "metadata": {
            "tags": []
          }
        }
      ]
    },
    {
      "cell_type": "code",
      "metadata": {
        "id": "sspPtfCS75mG",
        "colab_type": "code",
        "colab": {
          "base_uri": "https://localhost:8080/",
          "height": 384
        },
        "outputId": "349b647e-d1ac-4116-9903-53ea5f5641d0"
      },
      "source": [
        "plot_decision_regions(X_test_pca, y_test, classifier=lr)\n",
        "plt.xlabel('PC 1')\n",
        "plt.ylabel('PC 2')\n",
        "plt.legend(loc='lower left')\n",
        "plt.tight_layout()\n",
        "plt.title('Plot on the test (true) data')\n",
        "plt.savefig('TEST_CLASS_TRUE.png', dpi=300)\n",
        "plt.show()"
      ],
      "execution_count": 15,
      "outputs": [
        {
          "output_type": "stream",
          "text": [
            "'c' argument looks like a single numeric RGB or RGBA sequence, which should be avoided as value-mapping will have precedence in case its length matches with 'x' & 'y'.  Please use a 2-D array with a single row if you really want to specify the same RGB or RGBA value for all points.\n",
            "'c' argument looks like a single numeric RGB or RGBA sequence, which should be avoided as value-mapping will have precedence in case its length matches with 'x' & 'y'.  Please use a 2-D array with a single row if you really want to specify the same RGB or RGBA value for all points.\n",
            "'c' argument looks like a single numeric RGB or RGBA sequence, which should be avoided as value-mapping will have precedence in case its length matches with 'x' & 'y'.  Please use a 2-D array with a single row if you really want to specify the same RGB or RGBA value for all points.\n"
          ],
          "name": "stderr"
        },
        {
          "output_type": "display_data",
          "data": {
            "image/png": "[encoded data removed]",
            "text/plain": [
              "<Figure size 432x288 with 1 Axes>"
            ]
          },
          "metadata": {
            "tags": []
          }
        }
      ]
    },
    {
      "cell_type": "code",
      "metadata": {
        "id": "Gy-gzmts8MXK",
        "colab_type": "code",
        "colab": {}
      },
      "source": [
        "#Ex1"
      ],
      "execution_count": 0,
      "outputs": []
    },
    {
      "cell_type": "code",
      "metadata": {
        "id": "g4QB3DiK8ODm",
        "colab_type": "code",
        "colab": {}
      },
      "source": [
        "import numpy as np\n",
        "import pandas as pd\n",
        "import matplotlib.pyplot as plt \n",
        "from sklearn import cluster, datasets, metrics\n",
        "import seaborn as sns"
      ],
      "execution_count": 0,
      "outputs": []
    },
    {
      "cell_type": "code",
      "metadata": {
        "id": "1uNOiDKi8RIU",
        "colab_type": "code",
        "colab": {}
      },
      "source": [
        "n_samples = 1500 # no.of.data points \n",
        "\n",
        "# The dataset function is avialable in sklearn package\n",
        "noisy_moons,moon_labels = datasets.make_moons(n_samples=n_samples, noise=.1) # Generate Moon Toy Dataset\n",
        "noisy_circles,circle_labels = datasets.make_circles(n_samples=n_samples, factor=.5, noise=.05) # Generate Circle Toy Dataset\n",
        "\n",
        "# noisy_moons.shape\n",
        "# moon_labels.shape"
      ],
      "execution_count": 0,
      "outputs": []
    },
    {
      "cell_type": "code",
      "metadata": {
        "id": "RMiFqs3V8WVf",
        "colab_type": "code",
        "colab": {}
      },
      "source": [
        "# Put in Array\n",
        "noisy_moons=np.array(noisy_moons)\n",
        "noisy_circles = np.array(noisy_circles)"
      ],
      "execution_count": 0,
      "outputs": []
    },
    {
      "cell_type": "code",
      "metadata": {
        "id": "BFseIZVo8ZNm",
        "colab_type": "code",
        "colab": {}
      },
      "source": [
        "# Plot Half-moon data\n",
        "plt.figure(figsize=(8,5))\n",
        "plt.title(\"Half-moon shaped data\", fontsize=18)\n",
        "plt.grid(True)\n",
        "plt.scatter(noisy_moons[:,0],noisy_moons[:,1])\n",
        "plt.savefig('HALF_MOON.png', dpi=300)\n",
        "plt.show()"
      ],
      "execution_count": 0,
      "outputs": []
    },
    {
      "cell_type": "code",
      "metadata": {
        "id": "XpLu0mMx8cYy",
        "colab_type": "code",
        "colab": {}
      },
      "source": [
        "# Plot Circle data\n",
        "plt.figure(figsize=(8,5))\n",
        "plt.title(\"Concentric circles of data points\", fontsize=18)\n",
        "plt.grid(True)\n",
        "plt.scatter(noisy_circles[:,0],noisy_circles[:,1])\n",
        "plt.savefig('CIRCLE.png', dpi=300)\n",
        "plt.show()"
      ],
      "execution_count": 0,
      "outputs": []
    },
    {
      "cell_type": "code",
      "metadata": {
        "id": "439yM7kV8fjz",
        "colab_type": "code",
        "colab": {}
      },
      "source": [
        "# Fit K-Means Clustering on noise moon data\n",
        "km=cluster.KMeans(n_clusters=2)\n",
        "km.fit(noisy_moons)\n",
        "km.labels_"
      ],
      "execution_count": 0,
      "outputs": []
    },
    {
      "cell_type": "code",
      "metadata": {
        "id": "ZTCz8F2s8jMH",
        "colab_type": "code",
        "colab": {}
      },
      "source": [
        "print(\"Completeness: %0.3f\" % metrics.completeness_score(moon_labels, km.labels_))\n",
        "print(\"Silhouette Coefficient: %0.3f\"\n",
        "      % metrics.silhouette_score(noisy_moons, km.labels_))"
      ],
      "execution_count": 0,
      "outputs": []
    },
    {
      "cell_type": "code",
      "metadata": {
        "id": "bix1Y94-8mPv",
        "colab_type": "code",
        "colab": {}
      },
      "source": [
        "plt.figure(figsize=(8,5))\n",
        "plt.title(\"Half-moon shaped data\", fontsize=18)\n",
        "plt.grid(True)\n",
        "plt.scatter(noisy_moons[:,0],noisy_moons[:,1],c=km.labels_)\n",
        "plt.savefig('CLUSTER_MOON.png', dpi=300)\n",
        "plt.show()"
      ],
      "execution_count": 0,
      "outputs": []
    },
    {
      "cell_type": "code",
      "metadata": {
        "id": "aWDbxDhl8pPT",
        "colab_type": "code",
        "colab": {}
      },
      "source": [
        "# Fit K-Means Clustering on noise Circle data\n",
        "km.fit(noisy_circles)"
      ],
      "execution_count": 0,
      "outputs": []
    },
    {
      "cell_type": "code",
      "metadata": {
        "id": "asDV-VGU8sbr",
        "colab_type": "code",
        "colab": {}
      },
      "source": [
        "print(\"Completeness: %0.3f\" % metrics.completeness_score(circle_labels, km.labels_))\n",
        "print(\"Silhouette Coefficient: %0.3f\" % metrics.silhouette_score(noisy_circles, km.labels_))"
      ],
      "execution_count": 0,
      "outputs": []
    },
    {
      "cell_type": "code",
      "metadata": {
        "id": "mqPfDI1Z8vXQ",
        "colab_type": "code",
        "colab": {}
      },
      "source": [
        "plt.figure(figsize=(8,5))\n",
        "plt.title(\"Concentric circles of data points\", fontsize=18)\n",
        "plt.grid(True)\n",
        "plt.scatter(noisy_circles[:,0],noisy_circles[:,1],c=km.labels_)\n",
        "plt.savefig('CLUSTER_CIRCLE.png', dpi=300)\n",
        "plt.show()"
      ],
      "execution_count": 0,
      "outputs": []
    },
    {
      "cell_type": "code",
      "metadata": {
        "id": "5ROcyjnb8zJI",
        "colab_type": "code",
        "colab": {}
      },
      "source": [
        "# Fit DBSCAN Clustering on noise moon data\n",
        "dbs = cluster.DBSCAN(eps=0.1) # The maximum distance between two samples for them to be considered as in the same neighborhood.\n",
        "dbs.fit(noisy_moons)\n",
        "dbs.labels_"
      ],
      "execution_count": 0,
      "outputs": []
    },
    {
      "cell_type": "code",
      "metadata": {
        "id": "czrN3PHA82CM",
        "colab_type": "code",
        "colab": {}
      },
      "source": [
        "plt.figure(figsize=(8,5))\n",
        "plt.title(\"Half-moon shaped data\", fontsize=18)\n",
        "plt.grid(True)\n",
        "plt.scatter(noisy_moons[:,0],noisy_moons[:,1],c=dbs.labels_)\n",
        "plt.savefig('DBSCAN_MOON.png', dpi=300)\n",
        "plt.show()"
      ],
      "execution_count": 0,
      "outputs": []
    },
    {
      "cell_type": "code",
      "metadata": {
        "id": "S0fyTuNJ84yN",
        "colab_type": "code",
        "colab": {}
      },
      "source": [
        "# Fit DBSCAN Clustering on noise Circle data\n",
        "dbs.fit(noisy_circles)\n",
        "dbs.labels_"
      ],
      "execution_count": 0,
      "outputs": []
    },
    {
      "cell_type": "code",
      "metadata": {
        "id": "9FwHMvvR87IL",
        "colab_type": "code",
        "colab": {}
      },
      "source": [
        "plt.figure(figsize=(8,5))\n",
        "plt.title(\"Concentric circles of data points\", fontsize=18)\n",
        "plt.grid(True)\n",
        "plt.scatter(noisy_circles[:,0],noisy_circles[:,1],c=dbs.labels_)\n",
        "plt.savefig('BSCAN_CIRCLE.png', dpi=300)\n",
        "plt.show()"
      ],
      "execution_count": 0,
      "outputs": []
    },
    {
      "cell_type": "code",
      "metadata": {
        "id": "uZaOjU3l8_y7",
        "colab_type": "code",
        "colab": {}
      },
      "source": [
        "from sklearn.decomposition import PCA\n",
        "scikit_pca = PCA(n_components=2)\n",
        "noisy_moons_spca = scikit_pca.fit_transform(noisy_moons)"
      ],
      "execution_count": 0,
      "outputs": []
    },
    {
      "cell_type": "code",
      "metadata": {
        "id": "GCodyBvs9C6Z",
        "colab_type": "code",
        "colab": {}
      },
      "source": [
        "fig, ax = plt.subplots(nrows=1, ncols=2, figsize=(12, 7))\n",
        "\n",
        "ax[0].scatter(noisy_moons_spca[moon_labels == 0, 0], noisy_moons_spca[moon_labels == 0, 1],\n",
        "              color='red', marker='^', alpha=0.5)\n",
        "ax[0].scatter(noisy_moons_spca[moon_labels == 1, 0], noisy_moons_spca[moon_labels == 1, 1],\n",
        "              color='blue', marker='o', alpha=0.5)\n",
        "\n",
        "ax[1].scatter(noisy_moons_spca[moon_labels == 0, 0], np.zeros((750, 1)) + 0.02,\n",
        "              color='red', marker='^', alpha=0.5)\n",
        "ax[1].scatter(noisy_moons_spca[moon_labels == 1, 0], np.zeros((750, 1)) - 0.02,\n",
        "              color='blue', marker='o', alpha=0.5)\n",
        "\n",
        "ax[0].set_xlabel('PC1')\n",
        "ax[0].set_ylabel('PC2')\n",
        "ax[1].set_ylim([-1, 1])\n",
        "ax[1].set_yticks([])\n",
        "ax[1].set_xlabel('PC1')\n",
        "\n",
        "plt.tight_layout()\n",
        "plt.savefig('PCA_MOON.png', dpi=300)\n",
        "plt.show()"
      ],
      "execution_count": 0,
      "outputs": []
    },
    {
      "cell_type": "code",
      "metadata": {
        "id": "Cxnst_b-9GfI",
        "colab_type": "code",
        "colab": {}
      },
      "source": [
        "# Compute the correlation matrix before doing PCA\n",
        "nm=pd.DataFrame(noisy_moons)\n",
        "pca_corr=nm.corr()\n",
        "print(pca_corr)\n",
        "sns.heatmap(pca_corr, vmax=1, center=0, square=True)\n",
        "plt.savefig('CORR_PCA.png', dpi=300)"
      ],
      "execution_count": 0,
      "outputs": []
    },
    {
      "cell_type": "code",
      "metadata": {
        "id": "0qQqs3Ws9JhT",
        "colab_type": "code",
        "colab": {}
      },
      "source": [
        "# Compute the correlation matrix after doing PCA\n",
        "nmp=pd.DataFrame(noisy_moons_spca)\n",
        "corr_pca=nmp.corr()\n",
        "print(corr_pca)\n",
        "sns.heatmap(corr_pca, vmax=1, center=0, square=True)\n",
        "plt.savefig('PCA_CORR.png', dpi=300)"
      ],
      "execution_count": 0,
      "outputs": []
    },
    {
      "cell_type": "code",
      "metadata": {
        "id": "NaypIBV29OoL",
        "colab_type": "code",
        "colab": {}
      },
      "source": [
        "from sklearn.decomposition import KernelPCA\n",
        "scikit_kpca = KernelPCA(n_components=2, kernel='rbf', gamma=15)\n",
        "noisy_moons_kpca = scikit_kpca.fit_transform(noisy_moons)"
      ],
      "execution_count": 0,
      "outputs": []
    },
    {
      "cell_type": "code",
      "metadata": {
        "id": "P8E7WYRH9R52",
        "colab_type": "code",
        "colab": {}
      },
      "source": [
        "# Compute the correlation matrix after doing PCA\n",
        "\n",
        "kmp=pd.DataFrame(noisy_moons_kpca)\n",
        "corr_kpca=kmp.corr()\n",
        "print(corr_kpca)\n",
        "sns.heatmap(corr_kpca, vmax=1, center=0, square=True)\n",
        "plt.savefig('KPCA_CORR.png', dpi=300)"
      ],
      "execution_count": 0,
      "outputs": []
    },
    {
      "cell_type": "code",
      "metadata": {
        "id": "FLRcHc9y9VDG",
        "colab_type": "code",
        "colab": {}
      },
      "source": [
        "plt.scatter(noisy_moons_kpca[moon_labels == 0, 0], noisy_moons_kpca[moon_labels == 0, 1],\n",
        "            color='red', marker='^', alpha=0.5)\n",
        "plt.scatter(noisy_moons_kpca[moon_labels == 1, 0], noisy_moons_kpca[moon_labels == 1, 1],\n",
        "            color='blue', marker='o', alpha=0.5)\n",
        "plt.xlabel('PC1')\n",
        "plt.ylabel('PC2')\n",
        "plt.tight_layout()\n",
        "plt.savefig('KPCA_MOON.png', dpi=300)"
      ],
      "execution_count": 0,
      "outputs": []
    },
    {
      "cell_type": "code",
      "metadata": {
        "id": "7k7RV8S69YL8",
        "colab_type": "code",
        "colab": {}
      },
      "source": [
        "from sklearn.ensemble import IsolationForest\n",
        "\n",
        "clf = IsolationForest(max_samples=100, contamination = 0.01)\n",
        "clf.fit(noisy_moons)\n",
        "y_pred_train = clf.predict(noisy_moons)\n",
        "\n",
        "pos = y_pred_train > 0\n",
        "neg = y_pred_train < 0"
      ],
      "execution_count": 0,
      "outputs": []
    },
    {
      "cell_type": "code",
      "metadata": {
        "id": "RV7SxhIj9bC1",
        "colab_type": "code",
        "colab": {}
      },
      "source": [
        "# plot the line, the samples, and the nearest vectors to the plane\n",
        "xx, yy = np.meshgrid(np.linspace(min((noisy_moons[:, 0])), max((noisy_moons[:, 0])), 500), np.linspace(min((noisy_moons[:, 1])), max((noisy_moons[:, 1])), 500))\n",
        "Z = clf.decision_function(np.c_[xx.ravel(), yy.ravel()])\n",
        "Z = Z.reshape(xx.shape)\n",
        "\n",
        "plt.title(\"IsolationForest\")\n",
        "plt.contourf(xx, yy, Z, cmap=plt.cm.Blues_r)\n",
        "\n",
        "b1 = plt.scatter(noisy_moons[pos][:, 0], noisy_moons[pos][:, 1], c='green', edgecolor='k')\n",
        "b2 = plt.scatter(noisy_moons[neg][:, 0], noisy_moons[neg][:, 1], c='red', edgecolor='k')\n",
        "\n",
        "plt.axis('tight')\n",
        "\n",
        "plt.xlim((xx.min(), xx.max()))\n",
        "plt.ylim((yy.min(), yy.max()))\n",
        "\n",
        "plt.savefig('OUTLIER_MOON.png', dpi=300)\n",
        "print(pos.sum())\n",
        "print(neg.sum())"
      ],
      "execution_count": 0,
      "outputs": []
    },
    {
      "cell_type": "code",
      "metadata": {
        "id": "zmvfgSoW9eK6",
        "colab_type": "code",
        "colab": {}
      },
      "source": [
        "from sklearn.ensemble import IsolationForest\n",
        "\n",
        "clf = IsolationForest(max_samples=100, contamination = 0.01)\n",
        "clf.fit(noisy_circles)\n",
        "y_pred_train = clf.predict(noisy_circles)\n",
        "\n",
        "pos = y_pred_train > 0\n",
        "neg = y_pred_train < 0"
      ],
      "execution_count": 0,
      "outputs": []
    },
    {
      "cell_type": "code",
      "metadata": {
        "id": "OzxKTLLC9ifx",
        "colab_type": "code",
        "colab": {}
      },
      "source": [
        "# plot the line, the samples, and the nearest vectors to the plane\n",
        "xx, yy = np.meshgrid(np.linspace(min((noisy_circles[:, 0])), max((noisy_circles[:, 0])), 500), \n",
        "                     np.linspace(min((noisy_circles[:, 1])), max((noisy_circles[:, 1])), 500))\n",
        "Z = clf.decision_function(np.c_[xx.ravel(), yy.ravel()])\n",
        "Z = Z.reshape(xx.shape)\n",
        "\n",
        "plt.title(\"IsolationForest\")\n",
        "plt.contourf(xx, yy, Z, cmap=plt.cm.Blues_r)\n",
        "\n",
        "b1 = plt.scatter(noisy_circles[pos][:, 0], noisy_circles[pos][:, 1], c='green', edgecolor='k')\n",
        "b2 = plt.scatter(noisy_circles[neg][:, 0], noisy_circles[neg][:, 1], c='red', edgecolor='k')\n",
        "\n",
        "plt.axis('tight')\n",
        "\n",
        "plt.xlim((xx.min(), xx.max()))\n",
        "plt.ylim((yy.min(), yy.max()))\n",
        "\n",
        "plt.savefig('OUTLIER_CIRCLE.png', dpi=300)\n",
        "print(pos.sum())\n",
        "print(neg.sum())"
      ],
      "execution_count": 0,
      "outputs": []
    },
    {
      "cell_type": "code",
      "metadata": {
        "id": "9Zi7d_jm9mOB",
        "colab_type": "code",
        "colab": {}
      },
      "source": [
        "import pandas as pd\n",
        "import numpy as np\n",
        "import warnings\n",
        "warnings.filterwarnings('ignore')\n",
        "\n",
        "df_wine = pd.read_csv('https://archive.ics.uci.edu/ml/'\n",
        "                      'machine-learning-databases/wine/wine.data',\n",
        "                      header=None)\n",
        "\n",
        "# if the Wine dataset is temporarily unavailable from the\n",
        "# UCI machine learning repository, un-comment the following line\n",
        "# of code to load the dataset from a local path:\n",
        "\n",
        "# df_wine = pd.read_csv('wine.data', header=None)\n",
        "\n",
        "df_wine.columns = ['Class label', 'Alcohol', 'Malic acid', 'Ash',\n",
        "                   'Alcalinity of ash', 'Magnesium', 'Total phenols',\n",
        "                   'Flavanoids', 'Nonflavanoid phenols', 'Proanthocyanins',\n",
        "                   'Color intensity', 'Hue',\n",
        "                   'OD280/OD315 of diluted wines', 'Proline']\n",
        "\n",
        "df_wine.head()\n",
        "#df_wine.to_csv('WindeData.csv')"
      ],
      "execution_count": 0,
      "outputs": []
    }
  ]
}