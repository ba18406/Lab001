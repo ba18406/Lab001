{
  "nbformat": 4,
  "nbformat_minor": 0,
  "metadata": {
    "colab": {
      "name": "Untitled12.ipynb",
      "provenance": [],
      "authorship_tag": "ABX9TyOWa4Va9FdzvvfwHuFIxMe+",
      "include_colab_link": true
    },
    "kernelspec": {
      "name": "python3",
      "display_name": "Python 3"
    },
    "accelerator": "GPU"
  },
  "cells": [
    {
      "cell_type": "markdown",
      "metadata": {
        "id": "view-in-github",
        "colab_type": "text"
      },
      "source": [
        "<a href=\"https://colab.research.google.com/github/ba18406/Lab001/blob/master/Lab01.ipynb\" target=\"_parent\"><img src=\"https://colab.research.google.com/assets/colab-badge.svg\" alt=\"Open In Colab\"/></a>"
      ]
    },
    {
      "cell_type": "code",
      "metadata": {
        "id": "uYnLwnmPHwGB",
        "colab_type": "code",
        "colab": {}
      },
      "source": [
        "import matplotlib.pyplot as plt\n",
        "import numpy as np\n",
        "\n",
        "t = np.linspace(0, 2*np.pi, 50)\n",
        "x = np.sin(t)\n",
        "y = np.cos(t)"
      ],
      "execution_count": 0,
      "outputs": []
    },
    {
      "cell_type": "code",
      "metadata": {
        "id": "TbYejZDrImh1",
        "colab_type": "code",
        "colab": {
          "base_uri": "https://localhost:8080/",
          "height": 282
        },
        "outputId": "b3231ef4-56b0-46d1-a5d2-e63a67b554f0"
      },
      "source": [
        "# Now create a figure\n",
        "plt.figure()\n",
        "# and plot x inside it\n",
        "plt.plot(x)"
      ],
      "execution_count": 3,
      "outputs": [
        {
          "output_type": "execute_result",
          "data": {
            "text/plain": [
              "[<matplotlib.lines.Line2D at 0x7ff1eceabe80>]"
            ]
          },
          "metadata": {
            "tags": []
          },
          "execution_count": 3
        },
        {
          "output_type": "display_data",
          "data": {
            "image/png": "[encoded data removed]",
            "text/plain": [
              "<Figure size 432x288 with 1 Axes>"
            ]
          },
          "metadata": {
            "tags": []
          }
        }
      ]
    },
    {
      "cell_type": "code",
      "metadata": {
        "id": "qEKWHBvsI5kv",
        "colab_type": "code",
        "colab": {
          "base_uri": "https://localhost:8080/",
          "height": 298
        },
        "outputId": "61598633-2ccd-4c02-8c6a-49dc86c133ac"
      },
      "source": [
        "# Now create a new figure\n",
        "plt.figure()\n",
        "# and plot y inside it...\n",
        "plt.plot(y)\n",
        "# Add a title\n",
        "plt.title(\"Cos\")"
      ],
      "execution_count": 4,
      "outputs": [
        {
          "output_type": "execute_result",
          "data": {
            "text/plain": [
              "Text(0.5, 1.0, 'Cos')"
            ]
          },
          "metadata": {
            "tags": []
          },
          "execution_count": 4
        },
        {
          "output_type": "display_data",
          "data": {
            "image/png": "[encoded data removed]",
            "text/plain": [
              "<Figure size 432x288 with 1 Axes>"
            ]
          },
          "metadata": {
            "tags": []
          }
        }
      ]
    },
    {
      "cell_type": "code",
      "metadata": {
        "id": "D4Y1UhNaJLup",
        "colab_type": "code",
        "colab": {
          "base_uri": "https://localhost:8080/",
          "height": 282
        },
        "outputId": "80b21bf7-fa5b-4d9e-a3c0-1f2730fbf1d9"
      },
      "source": [
        "x = np.linspace(0, 2*np.pi, 50)\n",
        "y1 = np.sin(x)\n",
        "y2 = np.sin(2*x)\n",
        "plt.figure() # Create figure\n",
        "plt.plot(y1)\n",
        "plt.plot(x, y1)\n",
        "\n",
        "# red dot-dash circle\n",
        "plt.plot(x, y1, 'r')\n",
        "\n",
        "# red marker only circle\n",
        "plt.plot(x, y1, 'r-o')\n",
        "\n",
        "# clear figure then plot 2 curves\n",
        "plt.clf()\n",
        "plt.plot(x, y1, 'g-o', x, y2, 'b-+')\n",
        "plt.legend(['sin(x)','sin(2x)'])"
      ],
      "execution_count": 5,
      "outputs": [
        {
          "output_type": "execute_result",
          "data": {
            "text/plain": [
              "<matplotlib.legend.Legend at 0x7ff1ec8bda90>"
            ]
          },
          "metadata": {
            "tags": []
          },
          "execution_count": 5
        },
        {
          "output_type": "display_data",
          "data": {
            "image/png": "[encoded data removed]",
            "text/plain": [
              "<Figure size 432x288 with 1 Axes>"
            ]
          },
          "metadata": {
            "tags": []
          }
        }
      ]
    },
    {
      "cell_type": "code",
      "metadata": {
        "id": "Iqrdr6RyJb2V",
        "colab_type": "code",
        "colab": {
          "base_uri": "https://localhost:8080/",
          "height": 298
        },
        "outputId": "6cf20639-0d5c-4b57-9882-13be59c56ebc"
      },
      "source": [
        "N = 50 # no. of points\n",
        "x = np.linspace(0, 10, N)\n",
        "#print(x)\n",
        "from numpy.random import rand\n",
        "e = rand(N)*5.0 # noise\n",
        "y1 = x + e\n",
        "areas = rand(N)*300\n",
        "plt.scatter(x, y1, s=areas)\n",
        "colors = rand(N)\n",
        "plt.scatter(x, y1, s=areas,c=colors)\n",
        "plt.colorbar()\n",
        "plt.title(\"Random scatter\")"
      ],
      "execution_count": 6,
      "outputs": [
        {
          "output_type": "execute_result",
          "data": {
            "text/plain": [
              "Text(0.5, 1.0, 'Random scatter')"
            ]
          },
          "metadata": {
            "tags": []
          },
          "execution_count": 6
        },
        {
          "output_type": "display_data",
          "data": {
            "image/png": "[encoded data removed]",
            "text/plain": [
              "<Figure size 432x288 with 2 Axes>"
            ]
          },
          "metadata": {
            "tags": []
          }
        }
      ]
    },
    {
      "cell_type": "code",
      "metadata": {
        "id": "wxtX1JxjJuFl",
        "colab_type": "code",
        "colab": {
          "base_uri": "https://localhost:8080/",
          "height": 354
        },
        "outputId": "5f8de59a-bdba-41b1-f136-3cf621a8f0c2"
      },
      "source": [
        "# Create some data\n",
        "e1 = rand(100)\n",
        "e2 = rand(100)*2\n",
        "e3 = rand(100)*50\n",
        "e4 = rand(100)*100\n",
        "corrmatrix = np.corrcoef([e1, e2, e3, e4])\n",
        "print(corrmatrix)\n",
        "# Plot corr matrix as image\n",
        "plt.imshow(corrmatrix, cmap='GnBu')\n",
        "plt.colorbar()"
      ],
      "execution_count": 7,
      "outputs": [
        {
          "output_type": "stream",
          "text": [
            "[[ 1.          0.17159716  0.23873424 -0.09082218]\n",
            " [ 0.17159716  1.          0.05794741 -0.04917869]\n",
            " [ 0.23873424  0.05794741  1.         -0.00561882]\n",
            " [-0.09082218 -0.04917869 -0.00561882  1.        ]]\n"
          ],
          "name": "stdout"
        },
        {
          "output_type": "execute_result",
          "data": {
            "text/plain": [
              "<matplotlib.colorbar.Colorbar at 0x7ff1e9fe4b70>"
            ]
          },
          "metadata": {
            "tags": []
          },
          "execution_count": 7
        },
        {
          "output_type": "display_data",
          "data": {
            "image/png": "[encoded data removed]",
            "text/plain": [
              "<Figure size 432x288 with 2 Axes>"
            ]
          },
          "metadata": {
            "tags": []
          }
        }
      ]
    },
    {
      "cell_type": "code",
      "metadata": {
        "id": "o_aIo58JJ-JV",
        "colab_type": "code",
        "colab": {
          "base_uri": "https://localhost:8080/",
          "height": 282
        },
        "outputId": "a62c5154-698a-43b1-c422-0dedd0f8f653"
      },
      "source": [
        "t = np.linspace(0, 2*np.pi)\n",
        "x = np.sin(t)\n",
        "y = np.cos(t)\n",
        "# To divide the plotting area\n",
        "plt.subplot(2, 1, 1)\n",
        "plt.plot(x)\n",
        "# Now activate a new plot\n",
        "# area.\n",
        "plt.subplot(2, 1, 2)\n",
        "plt.plot(y)"
      ],
      "execution_count": 8,
      "outputs": [
        {
          "output_type": "execute_result",
          "data": {
            "text/plain": [
              "[<matplotlib.lines.Line2D at 0x7ff1e9ec7ac8>]"
            ]
          },
          "metadata": {
            "tags": []
          },
          "execution_count": 8
        },
        {
          "output_type": "display_data",
          "data": {
            "image/png": "[encoded data removed]",
            "text/plain": [
              "<Figure size 432x288 with 2 Axes>"
            ]
          },
          "metadata": {
            "tags": []
          }
        }
      ]
    },
    {
      "cell_type": "code",
      "metadata": {
        "id": "J3jCZGcmKI4_",
        "colab_type": "code",
        "colab": {
          "base_uri": "https://localhost:8080/",
          "height": 350
        },
        "outputId": "24832f4f-6843-4a3c-c647-e25bd9a98076"
      },
      "source": [
        "# Create array of data\n",
        "from numpy.random import randint\n",
        "data = randint(10000, size=(10,1000))\n",
        "# Approx norm distribution\n",
        "x = np.sum(data, axis=0)\n",
        "# Set up for stacked plots\n",
        "plt.subplot(2,1,1)\n",
        "plt.hist(x, color='r')\n",
        "# Plot cumulative dist\n",
        "plt.subplot(2,1,2)\n",
        "plt.hist(x, cumulative=True)"
      ],
      "execution_count": 9,
      "outputs": [
        {
          "output_type": "execute_result",
          "data": {
            "text/plain": [
              "(array([   5.,   25.,   82.,  207.,  460.,  692.,  870.,  954.,  988.,\n",
              "        1000.]),\n",
              " array([20233. , 25990.2, 31747.4, 37504.6, 43261.8, 49019. , 54776.2,\n",
              "        60533.4, 66290.6, 72047.8, 77805. ]),\n",
              " <a list of 10 Patch objects>)"
            ]
          },
          "metadata": {
            "tags": []
          },
          "execution_count": 9
        },
        {
          "output_type": "display_data",
          "data": {
            "image/png": "[encoded data removed]",
            "text/plain": [
              "<Figure size 432x288 with 2 Axes>"
            ]
          },
          "metadata": {
            "tags": []
          }
        }
      ]
    },
    {
      "cell_type": "code",
      "metadata": {
        "id": "9kFnyqjHKZJ_",
        "colab_type": "code",
        "colab": {
          "base_uri": "https://localhost:8080/",
          "height": 282
        },
        "outputId": "f49ddacc-25bc-4025-9e5b-956773525774"
      },
      "source": [
        "# Add labels in plot command.\n",
        "plt.plot(np.sin(t), label='sin')\n",
        "plt.plot(np.cos(t), label='cos')\n",
        "plt.legend()"
      ],
      "execution_count": 10,
      "outputs": [
        {
          "output_type": "execute_result",
          "data": {
            "text/plain": [
              "<matplotlib.legend.Legend at 0x7ff1ec881400>"
            ]
          },
          "metadata": {
            "tags": []
          },
          "execution_count": 10
        },
        {
          "output_type": "display_data",
          "data": {
            "image/png": "[encoded data removed]",
            "text/plain": [
              "<Figure size 432x288 with 1 Axes>"
            ]
          },
          "metadata": {
            "tags": []
          }
        }
      ]
    },
    {
      "cell_type": "code",
      "metadata": {
        "id": "BTbtKQrSKlTs",
        "colab_type": "code",
        "colab": {
          "base_uri": "https://localhost:8080/",
          "height": 312
        },
        "outputId": "9c049c25-d290-4607-dc71-6030635269b2"
      },
      "source": [
        "plt.plot(t, np.sin(t))\n",
        "plt.xlabel('radians')\n",
        "# Keywords set text properties.\n",
        "plt.ylabel('amplitude',fontsize='large')\n",
        "plt.title('Sin(x)')"
      ],
      "execution_count": 11,
      "outputs": [
        {
          "output_type": "execute_result",
          "data": {
            "text/plain": [
              "Text(0.5, 1.0, 'Sin(x)')"
            ]
          },
          "metadata": {
            "tags": []
          },
          "execution_count": 11
        },
        {
          "output_type": "display_data",
          "data": {
            "image/png": "[encoded data removed]",
            "text/plain": [
              "<Figure size 432x288 with 1 Axes>"
            ]
          },
          "metadata": {
            "tags": []
          }
        }
      ]
    },
    {
      "cell_type": "code",
      "metadata": {
        "id": "Ju-Dv28DKs3g",
        "colab_type": "code",
        "colab": {
          "base_uri": "https://localhost:8080/",
          "height": 34
        },
        "outputId": "e6a6806b-1c9b-4aac-e249-3c024fc21d80"
      },
      "source": [
        "import numpy as np\n",
        "\n",
        "# Simple array creation\n",
        "a = np.array([0, 1, 2, 3, 4, 5])\n",
        "print(a)"
      ],
      "execution_count": 12,
      "outputs": [
        {
          "output_type": "stream",
          "text": [
            "[0 1 2 3 4 5]\n"
          ],
          "name": "stdout"
        }
      ]
    },
    {
      "cell_type": "code",
      "metadata": {
        "id": "HGnfylEIMQ34",
        "colab_type": "code",
        "colab": {
          "base_uri": "https://localhost:8080/",
          "height": 51
        },
        "outputId": "0c73fdcf-e5a9-488b-ac0e-cfd02411f300"
      },
      "source": [
        "# Checking the type and type of elements\n",
        "print(type(a))\n",
        "print(a.dtype)"
      ],
      "execution_count": 13,
      "outputs": [
        {
          "output_type": "stream",
          "text": [
            "<class 'numpy.ndarray'>\n",
            "int64\n"
          ],
          "name": "stdout"
        }
      ]
    },
    {
      "cell_type": "code",
      "metadata": {
        "id": "Yk7N_gd2MW3r",
        "colab_type": "code",
        "colab": {
          "base_uri": "https://localhost:8080/",
          "height": 51
        },
        "outputId": "8c5ef24b-6595-404d-b389-38fff66c086b"
      },
      "source": [
        "# Check dimensions and shape\n",
        "print(a.ndim)\n",
        "print(a.shape)"
      ],
      "execution_count": 14,
      "outputs": [
        {
          "output_type": "stream",
          "text": [
            "1\n",
            "(6,)\n"
          ],
          "name": "stdout"
        }
      ]
    },
    {
      "cell_type": "code",
      "metadata": {
        "id": "Q9dC8VQWMesc",
        "colab_type": "code",
        "colab": {
          "base_uri": "https://localhost:8080/",
          "height": 51
        },
        "outputId": "a13d6d3d-6a61-4f7b-e71d-c65fbc1bea05"
      },
      "source": [
        "# Check Bytes per element and Bytes of memory use\n",
        "print(a.itemsize)\n",
        "print(a.nbytes)"
      ],
      "execution_count": 15,
      "outputs": [
        {
          "output_type": "stream",
          "text": [
            "8\n",
            "48\n"
          ],
          "name": "stdout"
        }
      ]
    },
    {
      "cell_type": "code",
      "metadata": {
        "id": "e32t3bz1Mmds",
        "colab_type": "code",
        "colab": {
          "base_uri": "https://localhost:8080/",
          "height": 85
        },
        "outputId": "af7d5119-24f0-480c-e6d1-e676aee7ebdb"
      },
      "source": [
        "a = np.array([1, 2, 3, 4])\n",
        "b = np.array([2, 3, 4, 5])\n",
        "\n",
        "print(a*b)\n",
        "print(a**b)\n",
        "print(a+b)\n",
        "print(a/b)"
      ],
      "execution_count": 16,
      "outputs": [
        {
          "output_type": "stream",
          "text": [
            "[ 2  6 12 20]\n",
            "[   1    8   81 1024]\n",
            "[3 5 7 9]\n",
            "[0.5        0.66666667 0.75       0.8       ]\n"
          ],
          "name": "stdout"
        }
      ]
    },
    {
      "cell_type": "code",
      "metadata": {
        "id": "WyaRohVtMxbn",
        "colab_type": "code",
        "colab": {
          "base_uri": "https://localhost:8080/",
          "height": 68
        },
        "outputId": "a62bd8bf-0c9c-4302-a198-f6de19869f2a"
      },
      "source": [
        "# Setting array elements\n",
        "print(a[0])\n",
        "a[0] = 10\n",
        "print(a[0])\n",
        "print(a)"
      ],
      "execution_count": 17,
      "outputs": [
        {
          "output_type": "stream",
          "text": [
            "1\n",
            "10\n",
            "[10  2  3  4]\n"
          ],
          "name": "stdout"
        }
      ]
    },
    {
      "cell_type": "code",
      "metadata": {
        "id": "VPUtot13M4Eu",
        "colab_type": "code",
        "colab": {
          "base_uri": "https://localhost:8080/",
          "height": 51
        },
        "outputId": "ddd0c1af-5037-417d-a923-45aef46d1ebd"
      },
      "source": [
        "# Multi-dimensional array\n",
        "\n",
        "a = np.array([[ 0, 1, 2, 3],\n",
        "              [10,11,12,13]])\n",
        "print(a)"
      ],
      "execution_count": 18,
      "outputs": [
        {
          "output_type": "stream",
          "text": [
            "[[ 0  1  2  3]\n",
            " [10 11 12 13]]\n"
          ],
          "name": "stdout"
        }
      ]
    },
    {
      "cell_type": "code",
      "metadata": {
        "id": "gQr7urHRM_fV",
        "colab_type": "code",
        "colab": {
          "base_uri": "https://localhost:8080/",
          "height": 68
        },
        "outputId": "0cfebe53-19c0-4ec5-bc2d-ea8af0b2b1ed"
      },
      "source": [
        "print(a.shape)\n",
        "print(a.size)\n",
        "print(a.ndim)"
      ],
      "execution_count": 19,
      "outputs": [
        {
          "output_type": "stream",
          "text": [
            "(2, 4)\n",
            "8\n",
            "2\n"
          ],
          "name": "stdout"
        }
      ]
    },
    {
      "cell_type": "code",
      "metadata": {
        "id": "gY9OH8M6NHBt",
        "colab_type": "code",
        "colab": {
          "base_uri": "https://localhost:8080/",
          "height": 51
        },
        "outputId": "33e98f00-05a1-42a4-fffd-742474029640"
      },
      "source": [
        "# Get and set elements in Multi-dimensional array\n",
        "print(a[1, 3])\n",
        "a[1, 3] = -1\n",
        "print(a[1, 3])"
      ],
      "execution_count": 20,
      "outputs": [
        {
          "output_type": "stream",
          "text": [
            "13\n",
            "-1\n"
          ],
          "name": "stdout"
        }
      ]
    },
    {
      "cell_type": "code",
      "metadata": {
        "id": "PmfnV6TvNOTg",
        "colab_type": "code",
        "colab": {
          "base_uri": "https://localhost:8080/",
          "height": 34
        },
        "outputId": "bb8c0f7e-5533-46af-a69e-bbb77c2a8bac"
      },
      "source": [
        "print(a[1])"
      ],
      "execution_count": 21,
      "outputs": [
        {
          "output_type": "stream",
          "text": [
            "[10 11 12 -1]\n"
          ],
          "name": "stdout"
        }
      ]
    },
    {
      "cell_type": "code",
      "metadata": {
        "id": "Qu_8rfi3N5Or",
        "colab_type": "code",
        "colab": {
          "base_uri": "https://localhost:8080/",
          "height": 153
        },
        "outputId": "608bd9e0-6509-42f6-9118-039943e96c04"
      },
      "source": [
        "# Slicing array\n",
        "print(a)\n",
        "\n",
        "# print all row and 3rd column\n",
        "print(a[:,2])\n",
        "\n",
        "# print first row and all column \n",
        "print(a[0,:])\n",
        "\n",
        "# negative indices work also\n",
        "print(a)\n",
        "print(a[:,:-2])"
      ],
      "execution_count": 22,
      "outputs": [
        {
          "output_type": "stream",
          "text": [
            "[[ 0  1  2  3]\n",
            " [10 11 12 -1]]\n",
            "[ 2 12]\n",
            "[0 1 2 3]\n",
            "[[ 0  1  2  3]\n",
            " [10 11 12 -1]]\n",
            "[[ 0  1]\n",
            " [10 11]]\n"
          ],
          "name": "stdout"
        }
      ]
    },
    {
      "cell_type": "code",
      "metadata": {
        "id": "dbZu-20qOVH5",
        "colab_type": "code",
        "colab": {}
      },
      "source": [
        "#Questions to be done during the lab:\n",
        "#Create a (4 x 2) integer array and print it's attributes\n",
        "#Create an array of dimension (1,10) and sort it in ascending and descending order\n",
        "#Convert an 1D array [1 2 3 4 5 6 7 8 9] to 2D array [[1 2 3], [4 5 6], [7 8 9]]\n",
        "#Stack two arrays of any size horizontally and vertically\n",
        "#Create two array of same size and find commom elements\n",
        "#Create a 2D array of 5 by 5 and find the min and max values from each row and each column\n",
        "#Create an array of size 100 and compute the mean, median, standard deviation.\n",
        "#Normalize a 5x5 random matrix\n",
        "#Consider an array of dimension (4,4,3), how to mulitply it by an array with dimensions (4,4)?"
      ],
      "execution_count": 0,
      "outputs": []
    },
    {
      "cell_type": "code",
      "metadata": {
        "id": "dwNnPPXLOs42",
        "colab_type": "code",
        "colab": {
          "base_uri": "https://localhost:8080/",
          "height": 85
        },
        "outputId": "71df2c08-299f-4c20-b076-794cb927d836"
      },
      "source": [
        "import numpy as np\n",
        "arry = np.array([[1,2],\n",
        "                [3,4],\n",
        "                [4,5],\n",
        "                [6,7]])\n",
        "print (arry)"
      ],
      "execution_count": 23,
      "outputs": [
        {
          "output_type": "stream",
          "text": [
            "[[1 2]\n",
            " [3 4]\n",
            " [4 5]\n",
            " [6 7]]\n"
          ],
          "name": "stdout"
        }
      ]
    },
    {
      "cell_type": "code",
      "metadata": {
        "id": "v7qpLbiWOysx",
        "colab_type": "code",
        "colab": {
          "base_uri": "https://localhost:8080/",
          "height": 34
        },
        "outputId": "bfa9612c-a006-4776-a041-d7eb5bde9ea7"
      },
      "source": [
        "arry1 = np.array([1,5,9,7,6,11,8,2,11,10])\n",
        "ascending = np.sort(arry1)\n",
        "descending = ascending [::-1]\n",
        "print (ascending , descending)"
      ],
      "execution_count": 24,
      "outputs": [
        {
          "output_type": "stream",
          "text": [
            "[ 1  2  5  6  7  8  9 10 11 11] [11 11 10  9  8  7  6  5  2  1]\n"
          ],
          "name": "stdout"
        }
      ]
    },
    {
      "cell_type": "code",
      "metadata": {
        "id": "jS3rybY9O-Kb",
        "colab_type": "code",
        "colab": {
          "base_uri": "https://localhost:8080/",
          "height": 68
        },
        "outputId": "248bed5a-a594-4d42-e8c1-2c6334872df6"
      },
      "source": [
        "arry2 = np.array([1,2,3,4,5,6,7,8,9])\n",
        "DD = np.reshape(arry2, (-1,3))\n",
        "DD\n",
        "print (DD)"
      ],
      "execution_count": 25,
      "outputs": [
        {
          "output_type": "stream",
          "text": [
            "[[1 2 3]\n",
            " [4 5 6]\n",
            " [7 8 9]]\n"
          ],
          "name": "stdout"
        }
      ]
    },
    {
      "cell_type": "code",
      "metadata": {
        "id": "F3HIMs9QPC0a",
        "colab_type": "code",
        "colab": {
          "base_uri": "https://localhost:8080/",
          "height": 51
        },
        "outputId": "be5e81a8-6ac8-4938-a949-11b0e21bba0a"
      },
      "source": [
        "arry3 = np.array([2,4])\n",
        "arry4 = np.array([5,6])\n",
        "SS = np.column_stack ((arry3,arry4))\n",
        "print (SS)"
      ],
      "execution_count": 26,
      "outputs": [
        {
          "output_type": "stream",
          "text": [
            "[[2 5]\n",
            " [4 6]]\n"
          ],
          "name": "stdout"
        }
      ]
    },
    {
      "cell_type": "code",
      "metadata": {
        "id": "xY8umyeKPHsP",
        "colab_type": "code",
        "colab": {
          "base_uri": "https://localhost:8080/",
          "height": 34
        },
        "outputId": "cf409637-0957-4067-8fd5-8a22ce0ebe37"
      },
      "source": [
        "arry5 = np.array([4,2])\n",
        "arry6 = np.array([3,4])\n",
        "CC = np.intersect1d (arry5,arry6)\n",
        "print (CC)"
      ],
      "execution_count": 27,
      "outputs": [
        {
          "output_type": "stream",
          "text": [
            "[4]\n"
          ],
          "name": "stdout"
        }
      ]
    },
    {
      "cell_type": "code",
      "metadata": {
        "id": "FgHFePyIPNA8",
        "colab_type": "code",
        "colab": {
          "base_uri": "https://localhost:8080/",
          "height": 34
        },
        "outputId": "fba474ee-a648-4e2e-c784-c228c56da8d2"
      },
      "source": [
        "arry7 = np.array([[1,8,5,7,9],\n",
        "                  [5,7,9,4,6],\n",
        "                  [10,7,9,6,3],\n",
        "                  [4,9,7,3,5],\n",
        "                  [3,9,7,5,4]])\n",
        "Min = np.amin (arry7)\n",
        "Max = np.amax (arry7)\n",
        "Min1 = np.amin (arry7, axis=1)\n",
        "Max1 = np.amax (arry7, axis=1)\n",
        "RR = print (Min1, Max1)"
      ],
      "execution_count": 28,
      "outputs": [
        {
          "output_type": "stream",
          "text": [
            "[1 4 3 3 3] [ 9  9 10  9  9]\n"
          ],
          "name": "stdout"
        }
      ]
    },
    {
      "cell_type": "code",
      "metadata": {
        "id": "n4lY70xvPTUW",
        "colab_type": "code",
        "colab": {
          "base_uri": "https://localhost:8080/",
          "height": 493
        },
        "outputId": "a0cea853-a6f8-4640-f69e-94e8ef3ad9a9"
      },
      "source": [
        "arry8 = np.random.rand(1,100)\n",
        "print (arry8)\n",
        "print (np.mean(arry8))\n",
        "print(np.median(arry8))\n",
        "print(np.std(arry8))"
      ],
      "execution_count": 29,
      "outputs": [
        {
          "output_type": "stream",
          "text": [
            "[[8.03793518e-01 8.87494043e-02 2.09520153e-01 1.76231181e-04\n",
            "  9.03986673e-01 7.49676827e-01 4.69015487e-01 9.01599945e-01\n",
            "  7.35531523e-02 9.64743934e-01 4.56664303e-01 3.09662561e-01\n",
            "  9.21635497e-01 7.23860854e-01 4.18549524e-01 7.35221795e-01\n",
            "  8.59812108e-01 8.51850526e-01 6.42647453e-01 7.43436507e-01\n",
            "  5.05631290e-01 7.79099109e-01 6.02331022e-01 9.61266887e-01\n",
            "  5.54996360e-01 4.25007269e-02 4.42059519e-01 4.17493307e-01\n",
            "  4.91054346e-01 1.10971235e-03 8.22877721e-01 5.72531171e-01\n",
            "  7.08366242e-01 1.55068207e-01 1.68148103e-01 5.92848436e-01\n",
            "  4.49346269e-01 1.98953293e-01 4.03449765e-01 6.33860664e-01\n",
            "  1.60301513e-01 5.38016937e-01 9.73523887e-01 8.21176665e-01\n",
            "  8.48417692e-01 7.57972642e-01 1.19672671e-01 8.71796790e-01\n",
            "  4.29765054e-01 1.04989163e-01 7.10543643e-01 8.17900425e-03\n",
            "  2.03294770e-01 6.37866120e-01 5.13025470e-01 9.54344886e-01\n",
            "  5.54610021e-01 6.16633886e-01 7.63993393e-01 4.79979594e-02\n",
            "  4.63299867e-01 8.81310343e-01 5.83605314e-01 2.56871669e-01\n",
            "  3.41447001e-01 9.04126344e-01 5.39628166e-01 9.92756720e-01\n",
            "  6.87654842e-01 9.11584937e-01 3.21656161e-01 1.38812004e-01\n",
            "  9.66651422e-01 3.66724388e-01 5.91474292e-01 5.29925474e-01\n",
            "  6.69452210e-01 3.93477206e-01 2.19697076e-01 9.01620494e-01\n",
            "  7.30829589e-02 8.70356086e-01 3.22016220e-01 8.83488109e-01\n",
            "  6.13798635e-01 3.98336795e-01 4.92734388e-01 7.73670818e-01\n",
            "  2.29954170e-01 4.68918544e-01 7.38008382e-01 2.28852905e-01\n",
            "  4.05655735e-01 3.18172384e-01 1.11226711e-01 6.21464177e-01\n",
            "  3.56668482e-01 5.00099475e-02 9.39318731e-01 6.70323650e-01]]\n",
            "0.5319510452382676\n",
            "0.5471190936331034\n",
            "0.2860212247006082\n"
          ],
          "name": "stdout"
        }
      ]
    },
    {
      "cell_type": "code",
      "metadata": {
        "id": "vp0lsfcgPYce",
        "colab_type": "code",
        "colab": {
          "base_uri": "https://localhost:8080/",
          "height": 102
        },
        "outputId": "fa7a624c-0f43-40b8-f703-190a779b1a4b"
      },
      "source": [
        "arry9 = np.array([[1,5,7,9,6],\n",
        "                   [6,7,4,9,5],\n",
        "                   [10,8,77,20,6],\n",
        "                   [14,8,9,7,6],\n",
        "                   [5,8,9,7,6]])\n",
        "arry9 = arry9 - np.mean(arry9)\n",
        "arry9 = arry9 - np.abs(arry9).max()\n",
        "print (arry9)"
      ],
      "execution_count": 30,
      "outputs": [
        {
          "output_type": "stream",
          "text": [
            "[[-76. -72. -70. -68. -71.]\n",
            " [-71. -70. -73. -68. -72.]\n",
            " [-67. -69.   0. -57. -71.]\n",
            " [-63. -69. -68. -70. -71.]\n",
            " [-72. -69. -68. -70. -71.]]\n"
          ],
          "name": "stdout"
        }
      ]
    },
    {
      "cell_type": "code",
      "metadata": {
        "id": "yVIv3prjPe9J",
        "colab_type": "code",
        "colab": {
          "base_uri": "https://localhost:8080/",
          "height": 340
        },
        "outputId": "5ab761f9-9d06-4174-da82-2be1a78da236"
      },
      "source": [
        "arry10 = np.random.random((4,4,3))\n",
        "arry11 = np.random.random((4,4))\n",
        "\n",
        "arry10 * arry11 [:,:,None]"
      ],
      "execution_count": 31,
      "outputs": [
        {
          "output_type": "execute_result",
          "data": {
            "text/plain": [
              "array([[[0.07423379, 0.20756022, 0.06758134],\n",
              "        [0.57838109, 0.67487014, 0.73233099],\n",
              "        [0.08368327, 0.36694017, 0.31258281],\n",
              "        [0.01693002, 0.0207065 , 0.0124978 ]],\n",
              "\n",
              "       [[0.06189423, 0.64764437, 0.76306892],\n",
              "        [0.27159838, 0.21963244, 0.53065775],\n",
              "        [0.07784782, 0.53388198, 0.14414214],\n",
              "        [0.32819398, 0.12532219, 0.32144966]],\n",
              "\n",
              "       [[0.11677268, 0.40371214, 0.78404384],\n",
              "        [0.29740043, 0.27909969, 0.30010994],\n",
              "        [0.38053405, 0.03594929, 0.0716917 ],\n",
              "        [0.00130279, 0.01497239, 0.00731151]],\n",
              "\n",
              "       [[0.76526783, 0.84278808, 0.82136424],\n",
              "        [0.25234636, 0.15293979, 0.38821473],\n",
              "        [0.59687162, 0.01883757, 0.14867657],\n",
              "        [0.06488311, 0.08123154, 0.04753185]]])"
            ]
          },
          "metadata": {
            "tags": []
          },
          "execution_count": 31
        }
      ]
    }
  ]
}