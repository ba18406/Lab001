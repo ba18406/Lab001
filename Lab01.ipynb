{
  "nbformat": 4,
  "nbformat_minor": 0,
  "metadata": {
    "colab": {
      "name": "Untitled18.ipynb",
      "provenance": [],
      "authorship_tag": "ABX9TyNWI+1RxeGU3rO0GYnOGZkp",
      "include_colab_link": true
    },
    "kernelspec": {
      "name": "python3",
      "display_name": "Python 3"
    },
    "accelerator": "GPU"
  },
  "cells": [
    {
      "cell_type": "markdown",
      "metadata": {
        "id": "view-in-github",
        "colab_type": "text"
      },
      "source": [
        "<a href=\"https://colab.research.google.com/github/ba18406/Lab001/blob/master/Lab01.ipynb\" target=\"_parent\"><img src=\"https://colab.research.google.com/assets/colab-badge.svg\" alt=\"Open In Colab\"/></a>"
      ]
    },
    {
      "cell_type": "code",
      "metadata": {
        "id": "xz5LxUaPz8rL",
        "colab_type": "code",
        "colab": {}
      },
      "source": [
        "#Questions to be done during the lab:\n",
        "#Create a (4 x 2) integer array and print it's attributes\n",
        "#Create an array of dimension (1,10) and sort it in ascending and descending order\n",
        "#Convert an 1D array [1 2 3 4 5 6 7 8 9] to 2D array [[1 2 3], [4 5 6], [7 8 9]]\n",
        "#Stack two arrays of any size horizontally and vertically\n",
        "#Create two array of same size and find commom elements\n",
        "#Create a 2D array of 5 by 5 and find the min and max values from each row and each column\n",
        "#Create an array of size 100 and compute the mean, median, standard deviation.\n",
        "#Normalize a 5x5 random matrix\n",
        "#Consider an array of dimension (4,4,3), how to mulitply it by an array with dimensions (4,4)?"
      ],
      "execution_count": 0,
      "outputs": []
    },
    {
      "cell_type": "code",
      "metadata": {
        "id": "wPp2pg2n0ebF",
        "colab_type": "code",
        "colab": {
          "base_uri": "https://localhost:8080/",
          "height": 85
        },
        "outputId": "7dd261f6-5e4f-43d8-8ec0-71a122c3f45b"
      },
      "source": [
        "import numpy as np\n",
        "arry = np.array([[1,2],\n",
        "                [3,4],\n",
        "                [4,5],\n",
        "                [6,7]])\n",
        "print (arry)"
      ],
      "execution_count": 1,
      "outputs": [
        {
          "output_type": "stream",
          "text": [
            "[[1 2]\n",
            " [3 4]\n",
            " [4 5]\n",
            " [6 7]]\n"
          ],
          "name": "stdout"
        }
      ]
    },
    {
      "cell_type": "code",
      "metadata": {
        "id": "tAYhQX2_0mEA",
        "colab_type": "code",
        "colab": {
          "base_uri": "https://localhost:8080/",
          "height": 34
        },
        "outputId": "b625ff75-4f31-4ae7-e007-ab1a9ff0123b"
      },
      "source": [
        "arry1 = np.array([1,5,9,7,6,11,8,2,11,10])\n",
        "ascending = np.sort(arry1)\n",
        "descending = ascending [::-1]\n",
        "print (ascending , descending)"
      ],
      "execution_count": 2,
      "outputs": [
        {
          "output_type": "stream",
          "text": [
            "[ 1  2  5  6  7  8  9 10 11 11] [11 11 10  9  8  7  6  5  2  1]\n"
          ],
          "name": "stdout"
        }
      ]
    },
    {
      "cell_type": "code",
      "metadata": {
        "id": "uoTe9yop05Zp",
        "colab_type": "code",
        "colab": {
          "base_uri": "https://localhost:8080/",
          "height": 68
        },
        "outputId": "c1c7d0d1-9be7-4245-f3c6-213604cecdf0"
      },
      "source": [
        "arry2 = np.array([1,2,3,4,5,6,7,8,9])\n",
        "DD = np.reshape(arry2, (-1,3))\n",
        "DD\n",
        "print (DD)"
      ],
      "execution_count": 3,
      "outputs": [
        {
          "output_type": "stream",
          "text": [
            "[[1 2 3]\n",
            " [4 5 6]\n",
            " [7 8 9]]\n"
          ],
          "name": "stdout"
        }
      ]
    },
    {
      "cell_type": "code",
      "metadata": {
        "id": "-igp3jwP08_B",
        "colab_type": "code",
        "colab": {
          "base_uri": "https://localhost:8080/",
          "height": 51
        },
        "outputId": "3c924a15-a057-446b-c427-0c08b95c6769"
      },
      "source": [
        "arry3 = np.array([2,4])\n",
        "arry4 = np.array([5,6])\n",
        "SS = np.column_stack ((arry3,arry4))\n",
        "print (SS)"
      ],
      "execution_count": 4,
      "outputs": [
        {
          "output_type": "stream",
          "text": [
            "[[2 5]\n",
            " [4 6]]\n"
          ],
          "name": "stdout"
        }
      ]
    },
    {
      "cell_type": "code",
      "metadata": {
        "id": "fnbXM_T30_7Q",
        "colab_type": "code",
        "colab": {
          "base_uri": "https://localhost:8080/",
          "height": 34
        },
        "outputId": "a9d348f2-3446-460f-d66a-6b4e4529119e"
      },
      "source": [
        "arry5 = np.array([4,2])\n",
        "arry6 = np.array([3,4])\n",
        "CC = np.intersect1d (arry5,arry6)\n",
        "print (CC)"
      ],
      "execution_count": 5,
      "outputs": [
        {
          "output_type": "stream",
          "text": [
            "[4]\n"
          ],
          "name": "stdout"
        }
      ]
    },
    {
      "cell_type": "code",
      "metadata": {
        "id": "0LRiTby31FKg",
        "colab_type": "code",
        "colab": {
          "base_uri": "https://localhost:8080/",
          "height": 34
        },
        "outputId": "b7ea2ace-2992-4281-9234-1ce723f219c4"
      },
      "source": [
        "arry7 = np.array([[1,8,5,7,9],\n",
        "                  [5,7,9,4,6],\n",
        "                  [10,7,9,6,3],\n",
        "                  [4,9,7,3,5],\n",
        "                  [3,9,7,5,4]])\n",
        "Min = np.amin (arry7)\n",
        "Max = np.amax (arry7)\n",
        "Min1 = np.amin (arry7, axis=1)\n",
        "Max1 = np.amax (arry7, axis=1)\n",
        "RR = print (Min1, Max1)"
      ],
      "execution_count": 6,
      "outputs": [
        {
          "output_type": "stream",
          "text": [
            "[1 4 3 3 3] [ 9  9 10  9  9]\n"
          ],
          "name": "stdout"
        }
      ]
    },
    {
      "cell_type": "code",
      "metadata": {
        "id": "HVP8IZcE1JiF",
        "colab_type": "code",
        "colab": {
          "base_uri": "https://localhost:8080/",
          "height": 357
        },
        "outputId": "8476037b-9387-415e-bc58-640aabc9d97a"
      },
      "source": [
        "arry8 = np.random.rand(1,100)\n",
        "print (arry8)\n",
        "print (np.mean(arry8))\n",
        "print(np.median(arry8))\n",
        "print(np.std(arry8))"
      ],
      "execution_count": 7,
      "outputs": [
        {
          "output_type": "stream",
          "text": [
            "[[0.45174519 0.8009325  0.03459498 0.36982293 0.77663561 0.8561935\n",
            "  0.39022132 0.83501501 0.17761589 0.43765478 0.30853325 0.40477667\n",
            "  0.74924782 0.42217923 0.13162876 0.50126398 0.01340233 0.69343199\n",
            "  0.41963546 0.17491485 0.33700205 0.72458159 0.30318455 0.94911905\n",
            "  0.18132432 0.5728392  0.5641895  0.82698503 0.73472001 0.72388911\n",
            "  0.75659772 0.17268776 0.68026384 0.30174637 0.49431966 0.8090223\n",
            "  0.5320879  0.9009645  0.29362997 0.48362993 0.10478204 0.82904164\n",
            "  0.66712596 0.05734327 0.85706049 0.3363483  0.48767273 0.63418566\n",
            "  0.61075527 0.25735548 0.96628694 0.46323957 0.50069568 0.00443112\n",
            "  0.13709262 0.28126826 0.04813112 0.28525077 0.58825316 0.23810592\n",
            "  0.41328925 0.68022565 0.18875515 0.87692391 0.4809118  0.61514792\n",
            "  0.94405376 0.6118405  0.96297218 0.65352114 0.56459488 0.55975956\n",
            "  0.95607432 0.87047723 0.49430804 0.67755077 0.11204671 0.37866091\n",
            "  0.47727698 0.91769514 0.20113517 0.17499549 0.49644372 0.42365906\n",
            "  0.48326393 0.76752371 0.14529729 0.77391449 0.93721785 0.44241756\n",
            "  0.47018931 0.14372019 0.85147933 0.87660297 0.44506822 0.94940704\n",
            "  0.71931207 0.99023586 0.69554556 0.47658998]]\n",
            "0.5254676096685709\n",
            "0.4953816933798551\n",
            "0.26980270291631275\n"
          ],
          "name": "stdout"
        }
      ]
    },
    {
      "cell_type": "code",
      "metadata": {
        "id": "JianRbBM1Ng4",
        "colab_type": "code",
        "colab": {
          "base_uri": "https://localhost:8080/",
          "height": 102
        },
        "outputId": "3dbcecbc-a5d7-4466-b706-5591bab85e88"
      },
      "source": [
        "arry9 = np.array([[1,5,7,9,6],\n",
        "                   [6,7,4,9,5],\n",
        "                   [10,8,77,20,6],\n",
        "                   [14,8,9,7,6],\n",
        "                   [5,8,9,7,6]])\n",
        "arry9 = arry9 - np.mean(arry9)\n",
        "arry9 = arry9 - np.abs(arry9).max()\n",
        "print (arry9)"
      ],
      "execution_count": 8,
      "outputs": [
        {
          "output_type": "stream",
          "text": [
            "[[-76. -72. -70. -68. -71.]\n",
            " [-71. -70. -73. -68. -72.]\n",
            " [-67. -69.   0. -57. -71.]\n",
            " [-63. -69. -68. -70. -71.]\n",
            " [-72. -69. -68. -70. -71.]]\n"
          ],
          "name": "stdout"
        }
      ]
    },
    {
      "cell_type": "code",
      "metadata": {
        "id": "VYuNNW-n1SXr",
        "colab_type": "code",
        "colab": {
          "base_uri": "https://localhost:8080/",
          "height": 340
        },
        "outputId": "d6bc1777-6ab3-4784-b705-a69619a89126"
      },
      "source": [
        "arry10 = np.random.random((4,4,3))\n",
        "arry11 = np.random.random((4,4))\n",
        "\n",
        "arry10 * arry11 [:,:,None]"
      ],
      "execution_count": 9,
      "outputs": [
        {
          "output_type": "execute_result",
          "data": {
            "text/plain": [
              "array([[[0.64579485, 0.63490428, 0.35908882],\n",
              "        [0.07521795, 0.11491134, 0.12180438],\n",
              "        [0.67242482, 0.26171936, 0.71663094],\n",
              "        [0.20480817, 0.15386384, 0.47332924]],\n",
              "\n",
              "       [[0.02524988, 0.04756374, 0.01517333],\n",
              "        [0.02764549, 0.1439257 , 0.12577673],\n",
              "        [0.09856671, 0.10531931, 0.01516279],\n",
              "        [0.01013701, 0.03130688, 0.03571801]],\n",
              "\n",
              "       [[0.04170879, 0.10888809, 0.17486009],\n",
              "        [0.32327662, 0.05124989, 0.16411773],\n",
              "        [0.10141158, 0.00673476, 0.16546009],\n",
              "        [0.01310553, 0.0228477 , 0.00754206]],\n",
              "\n",
              "       [[0.02742613, 0.21278387, 0.22582548],\n",
              "        [0.48759205, 0.07847133, 0.43561177],\n",
              "        [0.16165853, 0.71973714, 0.39388856],\n",
              "        [0.22135556, 0.06272656, 0.02263497]]])"
            ]
          },
          "metadata": {
            "tags": []
          },
          "execution_count": 9
        }
      ]
    },
    {
      "cell_type": "code",
      "metadata": {
        "id": "vPv4FQlJ11Ek",
        "colab_type": "code",
        "colab": {}
      },
      "source": [
        "#Ex1"
      ],
      "execution_count": 0,
      "outputs": []
    },
    {
      "cell_type": "code",
      "metadata": {
        "id": "QnUX6_xJ12aK",
        "colab_type": "code",
        "colab": {}
      },
      "source": [
        "import matplotlib.pyplot as plt\n",
        "import numpy as np\n",
        "\n",
        "t = np.linspace(0, 2*np.pi, 50)\n",
        "x = np.sin(t)\n",
        "y = np.cos(t)"
      ],
      "execution_count": 0,
      "outputs": []
    },
    {
      "cell_type": "code",
      "metadata": {
        "id": "rfHdPVWL17_1",
        "colab_type": "code",
        "colab": {}
      },
      "source": [
        "# Now create a figure\n",
        "plt.figure()\n",
        "# and plot x inside it\n",
        "plt.plot(x)"
      ],
      "execution_count": 0,
      "outputs": []
    },
    {
      "cell_type": "code",
      "metadata": {
        "id": "b94AUMxg1_T7",
        "colab_type": "code",
        "colab": {}
      },
      "source": [
        "# Now create a new figure\n",
        "plt.figure()\n",
        "# and plot y inside it...\n",
        "plt.plot(y)\n",
        "# Add a title\n",
        "plt.title(\"Cos\")"
      ],
      "execution_count": 0,
      "outputs": []
    },
    {
      "cell_type": "code",
      "metadata": {
        "id": "VRJnopWu2EJV",
        "colab_type": "code",
        "colab": {}
      },
      "source": [
        "x = np.linspace(0, 2*np.pi, 50)\n",
        "y1 = np.sin(x)\n",
        "y2 = np.sin(2*x)\n",
        "plt.figure() # Create figure\n",
        "plt.plot(y1)\n",
        "plt.plot(x, y1)\n",
        "\n",
        "# red dot-dash circle\n",
        "plt.plot(x, y1, 'r')\n",
        "\n",
        "# red marker only circle\n",
        "plt.plot(x, y1, 'r-o')\n",
        "\n",
        "# clear figure then plot 2 curves\n",
        "plt.clf()\n",
        "plt.plot(x, y1, 'g-o', x, y2, 'b-+')\n",
        "plt.legend(['sin(x)','sin(2x)'])"
      ],
      "execution_count": 0,
      "outputs": []
    },
    {
      "cell_type": "code",
      "metadata": {
        "id": "jygS7_NL2IOh",
        "colab_type": "code",
        "colab": {}
      },
      "source": [
        "N = 50 # no. of points\n",
        "x = np.linspace(0, 10, N)\n",
        "#print(x)\n",
        "from numpy.random import rand\n",
        "e = rand(N)*5.0 # noise\n",
        "y1 = x + e\n",
        "areas = rand(N)*300\n",
        "plt.scatter(x, y1, s=areas)\n",
        "colors = rand(N)\n",
        "plt.scatter(x, y1, s=areas,c=colors)\n",
        "plt.colorbar()\n",
        "plt.title(\"Random scatter\")"
      ],
      "execution_count": 0,
      "outputs": []
    },
    {
      "cell_type": "code",
      "metadata": {
        "id": "RL5CyYnL2NY-",
        "colab_type": "code",
        "colab": {}
      },
      "source": [
        "# Create some data\n",
        "e1 = rand(100)\n",
        "e2 = rand(100)*2\n",
        "e3 = rand(100)*50\n",
        "e4 = rand(100)*100\n",
        "corrmatrix = np.corrcoef([e1, e2, e3, e4])\n",
        "print(corrmatrix)\n",
        "# Plot corr matrix as image\n",
        "plt.imshow(corrmatrix, cmap='GnBu')\n",
        "plt.colorbar()"
      ],
      "execution_count": 0,
      "outputs": []
    },
    {
      "cell_type": "code",
      "metadata": {
        "id": "iuL3m_El2RZW",
        "colab_type": "code",
        "colab": {}
      },
      "source": [
        "t = np.linspace(0, 2*np.pi)\n",
        "x = np.sin(t)\n",
        "y = np.cos(t)\n",
        "# To divide the plotting area\n",
        "plt.subplot(2, 1, 1)\n",
        "plt.plot(x)\n",
        "# Now activate a new plot\n",
        "# area.\n",
        "plt.subplot(2, 1, 2)\n",
        "plt.plot(y)"
      ],
      "execution_count": 0,
      "outputs": []
    },
    {
      "cell_type": "code",
      "metadata": {
        "id": "lpbkrUGv2U-u",
        "colab_type": "code",
        "colab": {}
      },
      "source": [
        "# Create array of data\n",
        "from numpy.random import randint\n",
        "data = randint(10000, size=(10,1000))\n",
        "# Approx norm distribution\n",
        "x = np.sum(data, axis=0)\n",
        "# Set up for stacked plots\n",
        "plt.subplot(2,1,1)\n",
        "plt.hist(x, color='r')\n",
        "# Plot cumulative dist\n",
        "plt.subplot(2,1,2)\n",
        "plt.hist(x, cumulative=True)"
      ],
      "execution_count": 0,
      "outputs": []
    },
    {
      "cell_type": "code",
      "metadata": {
        "id": "EhtNPMqe2YUC",
        "colab_type": "code",
        "colab": {}
      },
      "source": [
        "# Add labels in plot command.\n",
        "plt.plot(np.sin(t), label='sin')\n",
        "plt.plot(np.cos(t), label='cos')\n",
        "plt.legend()"
      ],
      "execution_count": 0,
      "outputs": []
    },
    {
      "cell_type": "code",
      "metadata": {
        "id": "G0B6pufM2bkJ",
        "colab_type": "code",
        "colab": {}
      },
      "source": [
        "plt.plot(t, np.sin(t))\n",
        "plt.xlabel('radians')\n",
        "# Keywords set text properties.\n",
        "plt.ylabel('amplitude',fontsize='large')\n",
        "plt.title('Sin(x)')"
      ],
      "execution_count": 0,
      "outputs": []
    },
    {
      "cell_type": "code",
      "metadata": {
        "id": "082p6htZ2fbF",
        "colab_type": "code",
        "colab": {}
      },
      "source": [
        "#Ex2"
      ],
      "execution_count": 0,
      "outputs": []
    },
    {
      "cell_type": "code",
      "metadata": {
        "id": "zb1LGjMA2gmK",
        "colab_type": "code",
        "colab": {}
      },
      "source": [
        "import numpy as np\n",
        "\n",
        "# Simple array creation\n",
        "a = np.array([0, 1, 2, 3, 4, 5])\n",
        "print(a)"
      ],
      "execution_count": 0,
      "outputs": []
    },
    {
      "cell_type": "code",
      "metadata": {
        "id": "dzrygiI52vP9",
        "colab_type": "code",
        "colab": {}
      },
      "source": [
        "# Checking the type and type of elements\n",
        "print(type(a))\n",
        "print(a.dtype)"
      ],
      "execution_count": 0,
      "outputs": []
    },
    {
      "cell_type": "code",
      "metadata": {
        "id": "r1fwXt-a2ynf",
        "colab_type": "code",
        "colab": {}
      },
      "source": [
        "# Check dimensions and shape\n",
        "print(a.ndim)\n",
        "print(a.shape)"
      ],
      "execution_count": 0,
      "outputs": []
    },
    {
      "cell_type": "code",
      "metadata": {
        "id": "Lvetu8-q22jA",
        "colab_type": "code",
        "colab": {}
      },
      "source": [
        "# Check Bytes per element and Bytes of memory use\n",
        "print(a.itemsize)\n",
        "print(a.nbytes)"
      ],
      "execution_count": 0,
      "outputs": []
    },
    {
      "cell_type": "code",
      "metadata": {
        "id": "NsmD0pSE269q",
        "colab_type": "code",
        "colab": {}
      },
      "source": [
        "a = np.array([1, 2, 3, 4])\n",
        "b = np.array([2, 3, 4, 5])\n",
        "\n",
        "print(a*b)\n",
        "print(a**b)\n",
        "print(a+b)\n",
        "print(a/b)"
      ],
      "execution_count": 0,
      "outputs": []
    },
    {
      "cell_type": "code",
      "metadata": {
        "id": "zknVdzza294C",
        "colab_type": "code",
        "colab": {}
      },
      "source": [
        "# Setting array elements\n",
        "print(a[0])\n",
        "a[0] = 10\n",
        "print(a[0])\n",
        "print(a)"
      ],
      "execution_count": 0,
      "outputs": []
    },
    {
      "cell_type": "code",
      "metadata": {
        "id": "Qeh5Pv1O3BVB",
        "colab_type": "code",
        "colab": {}
      },
      "source": [
        "# Multi-dimensional array\n",
        "\n",
        "a = np.array([[ 0, 1, 2, 3],\n",
        "              [10,11,12,13]])\n",
        "print(a)"
      ],
      "execution_count": 0,
      "outputs": []
    },
    {
      "cell_type": "code",
      "metadata": {
        "id": "3PyuExXh3D_w",
        "colab_type": "code",
        "colab": {}
      },
      "source": [
        "print(a.shape)\n",
        "print(a.size)\n",
        "print(a.ndim)"
      ],
      "execution_count": 0,
      "outputs": []
    },
    {
      "cell_type": "code",
      "metadata": {
        "id": "OsUz2cxg3IZ3",
        "colab_type": "code",
        "colab": {}
      },
      "source": [
        "# Get and set elements in Multi-dimensional array\n",
        "print(a[1, 3])\n",
        "a[1, 3] = -1\n",
        "print(a[1, 3])"
      ],
      "execution_count": 0,
      "outputs": []
    },
    {
      "cell_type": "code",
      "metadata": {
        "id": "D8U3Bf8u3LB8",
        "colab_type": "code",
        "colab": {}
      },
      "source": [
        "print(a[1])"
      ],
      "execution_count": 0,
      "outputs": []
    },
    {
      "cell_type": "code",
      "metadata": {
        "id": "o9rBPnEa3N7o",
        "colab_type": "code",
        "colab": {}
      },
      "source": [
        "# Slicing array\n",
        "print(a)\n",
        "\n",
        "# print all row and 3rd column\n",
        "print(a[:,2])\n",
        "\n",
        "# print first row and all column \n",
        "print(a[0,:])\n",
        "\n",
        "# negative indices work also\n",
        "print(a)\n",
        "print(a[:,:-2]"
      ],
      "execution_count": 0,
      "outputs": []
    }
  ]
}