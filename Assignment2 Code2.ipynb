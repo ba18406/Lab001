{
 "cells": [
  {
   "cell_type": "code",
   "execution_count": 1,
   "metadata": {},
   "outputs": [],
   "source": [
    "import pandas as pd\n",
    "import numpy as np\n",
    "from collections import Counter\n",
    "import matplotlib.pyplot as plt\n",
    "import random\n",
    "from sklearn.preprocessing import LabelEncoder\n",
    "from sklearn.impute import SimpleImputer\n",
    "from sklearn.cluster import KMeans\n",
    "from sklearn.metrics import silhouette_samples, silhouette_score"
   ]
  },
  {
   "cell_type": "code",
   "execution_count": 2,
   "metadata": {},
   "outputs": [],
   "source": [
    "df_Clean_data = pd.read_csv(\"https://raw.githubusercontent.com/ba18406/Lab001/master/df_Clean.csv\")"
   ]
  },
  {
   "cell_type": "code",
   "execution_count": 3,
   "metadata": {},
   "outputs": [],
   "source": [
    "#Encoding categorical variables in dataSet\n",
    "encoder1 = LabelEncoder()\n",
    "df_Clean_data['Area'] = encoder1.fit_transform(df_Clean_data['Area'])\n",
    "encoder2 = LabelEncoder()\n",
    "df_Clean_data['Region'] = encoder2.fit_transform(df_Clean_data['Region'])\n",
    "encoder3 = LabelEncoder()\n",
    "df_Clean_data['State'] = encoder3.fit_transform(df_Clean_data['State'])\n",
    "encoder4 = LabelEncoder()\n",
    "df_Clean_data['City'] = encoder4.fit_transform(df_Clean_data['City'])\n",
    "encoder5 = LabelEncoder()\n",
    "df_Clean_data['Consumer_profile'] = encoder5.fit_transform(df_Clean_data['Consumer_profile'])\n",
    "encoder6 = LabelEncoder()\n",
    "df_Clean_data['Product_category'] = encoder6.fit_transform(df_Clean_data['Product_category'])\n",
    "encoder7 = LabelEncoder()\n",
    "df_Clean_data['Product_type'] = encoder7.fit_transform(df_Clean_data['Product_type'])\n",
    "encoder8 = LabelEncoder()\n",
    "df_Clean_data['Purchased_from'] = encoder8.fit_transform(df_Clean_data['Purchased_from'])\n",
    "encoder9 = LabelEncoder()\n",
    "df_Clean_data['Purpose'] = encoder9.fit_transform(df_Clean_data['Purpose'])"
   ]
  },
  {
   "cell_type": "code",
   "execution_count": 13,
   "metadata": {},
   "outputs": [
    {
     "name": "stdout",
     "output_type": "stream",
     "text": [
      "('\\nDataSet 3\\nImbalance: ', 0, '%')\n",
      "Counter({1: 1354, 0: 217})\n"
     ]
    }
   ],
   "source": [
    "Area_data = Counter(df_Clean_data['Area'])\n",
    "print(\"\\nDataSet 3\\nImbalance: \", (Area_data[0]/(Area_data[0]+Area_data[1]))*100, \"%\")\n",
    "print(Area_data)"
   ]
  },
  {
   "cell_type": "code",
   "execution_count": 7,
   "metadata": {},
   "outputs": [],
   "source": [
    "#Splitting the dependant and independant variables\n",
    "X = df_Clean_data.iloc[:, 0:13]\n",
    "Y = df_Clean_data.iloc[:, -1]"
   ]
  },
  {
   "cell_type": "code",
   "execution_count": null,
   "metadata": {},
   "outputs": [],
   "source": [
    "#Finding the best depth for tree by performing a grid search.\n",
    "#Additionaly performing 10 Fold cross validation of each classifier \n",
    "from sklearn import tree\n",
    "from sklearn.model_selection import cross_val_score\n",
    "depth = []\n",
    "for i in range(3,20):\n",
    "    clf = tree.DecisionTreeClassifier(max_depth=i)\n",
    "    # Perform 10-fold cross validation \n",
    "    scores = cross_val_score(estimator=clf, X=X, y=Y, cv=10, n_jobs=4)\n",
    "    depth.append((i,scores.mean()*100))\n",
    "print(depth)\n",
    "#Hence we can achieve around 85% accuracy using a decision tree if we set max depth of the tree from 5-13"
   ]
  },
  {
   "cell_type": "code",
   "execution_count": null,
   "metadata": {},
   "outputs": [],
   "source": [
    "#Training a Random Forest Classifier.\n",
    "#Also performing 10 Fold Cross Validation.\n",
    "from sklearn.ensemble import RandomForestClassifier\n",
    "randomforest = RandomForestClassifier(n_estimators=100)\n",
    "randomforest.fit(X, Y)\n",
    "RandomForest_CV_Score = cross_val_score(randomforest, X, Y, cv=10)\n",
    "print(RandomForest_CV_Score)\n",
    "print(\"Mean Score: \", RandomForest_CV_Score.mean())\n",
    "#Hence around 85% accuracy"
   ]
  },
  {
   "cell_type": "code",
   "execution_count": 9,
   "metadata": {},
   "outputs": [],
   "source": [
    "#Spliting the data into 10 equal portions using stratified K Fold. \n",
    "#Using 1 portion for testing and 9 for training.\n",
    "from sklearn.model_selection import StratifiedKFold\n",
    "bins = StratifiedKFold(n_splits = 10)\n",
    "for train_index, test_index in bins.split(X,Y):\n",
    "    #print(test_index)\n",
    "    X_train, X_test = X.iloc[train_index], X.iloc[test_index]\n",
    "    Y_train, Y_test = Y.iloc[train_index], Y.iloc[test_index]\n",
    "    training_data, testing_data = df_Clean_data.iloc[train_index], df_Clean_data.iloc[test_index]\n",
    "\n"
   ]
  },
  {
   "cell_type": "code",
   "execution_count": 12,
   "metadata": {},
   "outputs": [
    {
     "name": "stdout",
     "output_type": "stream",
     "text": [
      "For n_clusters = 2 The average silhouette_score is : 0.6437882307064046\n",
      "For n_clusters = 3 The average silhouette_score is : 0.6213880333485425\n",
      "For n_clusters = 4 The average silhouette_score is : 0.5960834538050809\n",
      "For n_clusters = 5 The average silhouette_score is : 0.6091991443855221\n",
      "For n_clusters = 6 The average silhouette_score is : 0.5990613506631828\n",
      "For n_clusters = 7 The average silhouette_score is : 0.5698122013611352\n",
      "For n_clusters = 8 The average silhouette_score is : 0.5410283566038776\n",
      "For n_clusters = 9 The average silhouette_score is : 0.5335057628648804\n",
      "For n_clusters = 10 The average silhouette_score is : 0.5422562959641974\n"
     ]
    },
    {
     "data": {
      "image/png": "[encoded data removed]",
      "text/plain": [
       "<Figure size 432x288 with 1 Axes>"
      ]
     },
     "metadata": {
      "needs_background": "light"
     },
     "output_type": "display_data"
    }
   ],
   "source": [
    "#Now finding the ideal number of clusters.\n",
    "#Using Elbow Method\n",
    "\n",
    "inertiaS = []\n",
    "for k in range(2,11):\n",
    "    km = KMeans(n_clusters = k)\n",
    "    #print(km.inertia_)\n",
    "    cluster_labels = km.fit_predict(X_train)\n",
    "    inertiaS.append(km.inertia_)\n",
    "    avg_score = silhouette_score(X_train, cluster_labels)\n",
    "    print(\"For n_clusters =\", k, \"The average silhouette_score is :\", avg_score)\n",
    "    \n",
    "plt.plot(range(2, 11), inertiaS)\n",
    "plt.title('Elbow Method')\n",
    "plt.xlabel('Number of clusters')\n",
    "plt.ylabel('WCSS')\n",
    "plt.show()\n",
    "\n",
    "#Hence according to Elbow method and silhoutte analysis, the ideal number of clusters should be 2."
   ]
  },
  {
   "cell_type": "code",
   "execution_count": 10,
   "metadata": {},
   "outputs": [
    {
     "data": {
      "text/plain": [
       "KMeans(algorithm='auto', copy_x=True, init='k-means++', max_iter=300,\n",
       "       n_clusters=2, n_init=10, n_jobs=None, precompute_distances='auto',\n",
       "       random_state=0, tol=0.0001, verbose=0)"
      ]
     },
     "execution_count": 10,
     "metadata": {},
     "output_type": "execute_result"
    }
   ],
   "source": [
    "#Running K-means on the selected number of clusters, i.e: 2\n",
    "km = KMeans(n_clusters = 2, init='k-means++', max_iter=300, n_init=10, random_state=0)\n",
    "km.fit(training_data)"
   ]
  },
  {
   "cell_type": "code",
   "execution_count": null,
   "metadata": {},
   "outputs": [],
   "source": [
    "cluster_labels = km.fit_predict(X_train)\n",
    "cluster_labels"
   ]
  },
  {
   "cell_type": "code",
   "execution_count": null,
   "metadata": {},
   "outputs": [],
   "source": [
    "for a,b,c in zip(X_train, cluster_labels , Y_train):\n",
    "    print(a, \"cluster = \", b, \"labels =\", c)"
   ]
  },
  {
   "cell_type": "code",
   "execution_count": 13,
   "metadata": {},
   "outputs": [
    {
     "name": "stdout",
     "output_type": "stream",
     "text": [
      "total num minority class samples in cluster(0): 0\n",
      "total num minority class samples in cluster(1): 0\n"
     ]
    }
   ],
   "source": [
    "#storing cluster number and respective centroids with number of samples\n",
    "label0 = np.array([]) # cluster 0 with minority class\n",
    "label1 = np.array([])# cluster 1 with minority class\n",
    "count0 = 0\n",
    "count1 = 0\n",
    "numOfLabels0 = 0\n",
    "numOfLabels1 = 0\n",
    "for cluster,centroid,labels in zip(km.labels_,X_train,Y_train):\n",
    "    if(cluster==0 and labels == 1):\n",
    "        count0 = count0 + 1\n",
    "        label0 = np.append(label0 ,[centroid,\"cluster\",cluster,'labels',labels])\n",
    "        numOfLabels0 = count0\n",
    "    elif(cluster==1 and labels == 1):\n",
    "        count1 = count1 + 1\n",
    "        label1 = np.append(label1 ,[centroid,\"cluster\",cluster,'labels',labels])\n",
    "        \n",
    "        numOfLabels1 = count1\n",
    "        \n",
    "print('total num minority class samples in cluster(0):',numOfLabels0)\n",
    "print('total num minority class samples in cluster(1):',numOfLabels1)\n",
    "\n",
    "#centroid of cluster-1 \n",
    "#print(\"Label 0:\",label0)\n",
    "#centroid of cluster-2\n",
    "#print(\"label 1:\",label1)"
   ]
  }
 ],
 "metadata": {
  "kernelspec": {
   "display_name": "Python 3",
   "language": "python",
   "name": "python3"
  },
  "language_info": {
   "codemirror_mode": {
    "name": "ipython",
    "version": 3
   },
   "file_extension": ".py",
   "mimetype": "text/x-python",
   "name": "python",
   "nbconvert_exporter": "python",
   "pygments_lexer": "ipython3",
   "version": "3.7.4"
  }
 },
 "nbformat": 4,
 "nbformat_minor": 2
}
